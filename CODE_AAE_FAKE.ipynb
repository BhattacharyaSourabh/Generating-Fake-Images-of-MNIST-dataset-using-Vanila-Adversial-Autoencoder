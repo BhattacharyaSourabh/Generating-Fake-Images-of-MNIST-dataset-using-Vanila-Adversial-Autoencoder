{
  "cells": [
    {
      "cell_type": "code",
      "execution_count": 1,
      "id": "593b8056",
      "metadata": {
        "colab": {
          "base_uri": "https://localhost:8080/"
        },
        "id": "593b8056",
        "outputId": "f01963ef-2bfc-439f-b009-43a021de42ec"
      },
      "outputs": [
        {
          "output_type": "stream",
          "name": "stdout",
          "text": [
            "Collecting piqa\n",
            "  Downloading piqa-1.2.2-py3-none-any.whl (32 kB)\n",
            "Requirement already satisfied: torchvision>=0.9.0 in /usr/local/lib/python3.7/dist-packages (from piqa) (0.11.1+cu111)\n",
            "Requirement already satisfied: torch>=1.8.0 in /usr/local/lib/python3.7/dist-packages (from piqa) (1.10.0+cu111)\n",
            "Requirement already satisfied: typing-extensions in /usr/local/lib/python3.7/dist-packages (from torch>=1.8.0->piqa) (3.10.0.2)\n",
            "Requirement already satisfied: numpy in /usr/local/lib/python3.7/dist-packages (from torchvision>=0.9.0->piqa) (1.21.5)\n",
            "Requirement already satisfied: pillow!=8.3.0,>=5.3.0 in /usr/local/lib/python3.7/dist-packages (from torchvision>=0.9.0->piqa) (7.1.2)\n",
            "Installing collected packages: piqa\n",
            "Successfully installed piqa-1.2.2\n",
            "Collecting torchgeometry\n",
            "  Downloading torchgeometry-0.1.2-py2.py3-none-any.whl (42 kB)\n",
            "\u001b[K     |████████████████████████████████| 42 kB 1.2 MB/s \n",
            "\u001b[?25hRequirement already satisfied: torch>=1.0.0 in /usr/local/lib/python3.7/dist-packages (from torchgeometry) (1.10.0+cu111)\n",
            "Requirement already satisfied: typing-extensions in /usr/local/lib/python3.7/dist-packages (from torch>=1.0.0->torchgeometry) (3.10.0.2)\n",
            "Installing collected packages: torchgeometry\n",
            "Successfully installed torchgeometry-0.1.2\n"
          ]
        }
      ],
      "source": [
        "#NAME : Sourabh Bhattacharya\n",
        "#ROLL NO. : 21EE64R18\n",
        "#ASSIGNMENT : 2\n",
        "\n",
        "import argparse\n",
        "import os\n",
        "import numpy as np \n",
        "import math\n",
        "import itertools\n",
        "!pip install piqa\n",
        "from piqa import SSIM\n",
        "\n",
        "import torch\n",
        "import torch.nn as nn\n",
        "import torch.nn.functional as F\n",
        "from torch.autograd import Variable\n",
        "from torchvision.utils import save_image\n",
        "import torchvision.transforms as transforms\n",
        "from torchvision import datasets\n",
        "from skimage.metrics import structural_similarity as ssim\n",
        "!pip install torchgeometry\n",
        "import torchgeometry as tgm \n",
        "import matplotlib.pyplot as plt\n",
        "from PIL import Image"
      ]
    },
    {
      "cell_type": "code",
      "execution_count": 2,
      "id": "c2ba1b27",
      "metadata": {
        "id": "c2ba1b27"
      },
      "outputs": [],
      "source": [
        "#lOADING DATA\n",
        "\n",
        "def load_data(data_path='data/'):\n",
        "    print('loading data!')\n",
        "    train_batch_size = 64\n",
        "    valid_batch_size = 64\n",
        "    train_loader = torch.utils.data.DataLoader(\n",
        "            datasets.MNIST(data_path, train=True, download=True,\n",
        "                transform=transforms.Compose([\n",
        "                    transforms.ToTensor(),\n",
        "                    transforms.Normalize((0.1307,), (0.3081,))\n",
        "                    ])),\n",
        "                batch_size=train_batch_size, shuffle=False)\n",
        "    test_loader = torch.utils.data.DataLoader(\n",
        "            datasets.MNIST(data_path, train=False, transform=transforms.Compose([\n",
        "                transforms.ToTensor(),\n",
        "                transforms.Normalize((0.1307,), (0.3081,))\n",
        "                ])),\n",
        "            batch_size=valid_batch_size, shuffle=False)\n",
        "    return train_loader, test_loader"
      ]
    },
    {
      "cell_type": "code",
      "execution_count": 3,
      "id": "8361ff1a",
      "metadata": {
        "id": "8361ff1a"
      },
      "outputs": [],
      "source": [
        "#SETTING HYPERPARAMETERS\n",
        "\n",
        "n_epochs = 100 #number of epochs of training\n",
        "batch_size = 64\n",
        "lr1 = 0.0001 #learning rate for AE\n",
        "lr2 = 0.00005 #Learning rate for Descriminator\n",
        "b1 = 0.5 #Decay rate \n",
        "b2 = 0.999 #Decay rate\n",
        "latent_dim = 2 \n",
        "img_size = 28 \n",
        "img_dir = 'image_basic'\n",
        "channels = 1\n",
        "\n",
        "# config cuda\n",
        "cuda = torch.cuda.is_available()\n",
        "img_shape = (channels, img_size, img_size)\n",
        "Tensor = torch.cuda.FloatTensor if cuda else torch.FloatTensor"
      ]
    },
    {
      "cell_type": "code",
      "execution_count": 4,
      "id": "4b58ab0b",
      "metadata": {
        "id": "4b58ab0b"
      },
      "outputs": [],
      "source": [
        "# DEFINING NETWORKS\n",
        "\n",
        "class Encoder(nn.Module):\n",
        "    def __init__(self):\n",
        "        super(Encoder, self).__init__()\n",
        "\n",
        "        self.model = nn.Sequential(\n",
        "            nn.Linear(int(np.prod(img_shape)), 1000),\n",
        "            nn.ReLU(),\n",
        "            nn.Linear(1000, latent_dim)\n",
        "        )\n",
        "\n",
        "        self.mu = nn.Linear(1000, latent_dim)\n",
        "        self.logvar = nn.Linear(1000, latent_dim)\n",
        "\n",
        "    def forward(self, img):\n",
        "        img_flat = img.view(img.shape[0], -1)\n",
        "        x = self.model(img_flat)\n",
        "        # mu = self.mu(x)\n",
        "        # logvar = self.logvar(x)\n",
        "        # z = reparameterization(mu, logvar)\n",
        "        return x\n",
        "\n",
        "\n",
        "class Decoder(nn.Module):\n",
        "    def __init__(self):\n",
        "        super(Decoder, self).__init__()\n",
        "\n",
        "        self.model = nn.Sequential(\n",
        "            nn.Linear(latent_dim, 1000),\n",
        "            nn.ReLU(),\n",
        "            nn.Linear(1000, int(np.prod(img_shape))),\n",
        "            nn.Sigmoid(),\n",
        "        )\n",
        "\n",
        "    def forward(self, z):\n",
        "        img_flat = self.model(z)\n",
        "        img = img_flat.view(img_flat.shape[0], *img_shape)\n",
        "        return img\n",
        "\n",
        "\n",
        "class Discriminator(nn.Module):\n",
        "    def __init__(self):\n",
        "        super(Discriminator, self).__init__()\n",
        "\n",
        "        self.model = nn.Sequential(\n",
        "            nn.Linear(latent_dim, 500),\n",
        "            nn.ReLU(),\n",
        "            nn.Linear(500, 1),\n",
        "            nn.Sigmoid(),\n",
        "        )\n",
        "\n",
        "    def forward(self, z):\n",
        "        validity = self.model(z)\n",
        "        return validity"
      ]
    },
    {
      "cell_type": "code",
      "execution_count": 5,
      "id": "5c75c5c8",
      "metadata": {
        "colab": {
          "base_uri": "https://localhost:8080/",
          "height": 440,
          "referenced_widgets": [
            "fef70102caa142bdbf39392846a19128",
            "eeffd4cde31a430cb6c10496ad17eb99",
            "0d29e05f988b4de493c880a5dc4c2b89",
            "b2a2145bfd01435cb45677698d2e011e",
            "36a244e5260947ba9b0fe4f723b612b6",
            "cdbd821d60f74840b1e2bd5b1bd7818e",
            "dbe56d9f5ffa455b96eddce719a0beb8",
            "0fa8628c1e2c42d5a194927e69b04562",
            "61eb2822b251432e88ebdde5fd821b0a",
            "f1e98cabe9f04d7196e5d2aff8613ca8",
            "0ee223eedfbe478e865b392aaf88fc25",
            "ff683e4391fe4e289fec9f1a94d59736",
            "9bd0c185ee834032a018451e7eb868a9",
            "ce440a22444c4129ab97b4682e67b1ba",
            "66161717181d4640b326ce3cf5197125",
            "08cb800d64784537ad4b5b29ae96b203",
            "27a66264eb9b4e6e9c75891312ce442b",
            "ad32ff2559524a909e52a9e4fdb2f2bc",
            "e259402e10a949e7b1286b6defba1c1d",
            "4a08211e7fc74c1fadc78c8d4c44a73a",
            "b46a9b3d05fb4c72acd547d8ce9c9efb",
            "31806b2b2a3146c59a4e9282d20550ac",
            "050df300400740afbf8cfe2f2c9e1b61",
            "88bc1b276eb743db95ca777310404744",
            "a9f7c5e871674d0eb64a42664944be4e",
            "dfcbbfdb0d4145b087d62866dcda8fa7",
            "8b2308d0174540bdb2b65570f3b9a8e0",
            "1ad25c8c0b02412b95e6271fd2f2d5dd",
            "6be382f72a004d929db655c8929b8a03",
            "09621cfec8a94360af3995cfe6591760",
            "2f3469a23c4049eb81c3696a7f2d30be",
            "78d9f2a98a60427c8a2aa493205245e4",
            "ac4ad28e644a434ab12a464121031838",
            "95083da7c43b4d6e9bfab87fa0250518",
            "4c2380a3ef50469da780e43ebfb4e3e1",
            "b7e16083ae5d4ce38982eff956bf3e42",
            "b9281fd5c6db40c9a43ed9e4b398a73d",
            "ded5e1b814174b40838aee12f4ccb0d5",
            "d333968588474b7cb831866adfc5c32c",
            "8d44b5469477487d83a9b365538fb14f",
            "e003e332e8a44a03b3dd97ca542d081b",
            "7936fcfd566f44b1acd7a9d169aecf9a",
            "8d043a51aa644ec296d0418624146d57",
            "71df7b5edf194c73afbbb8416b11aaf6"
          ]
        },
        "id": "5c75c5c8",
        "outputId": "b853ab1b-e155-4b11-9afe-a06302d9d5be"
      },
      "outputs": [
        {
          "output_type": "stream",
          "name": "stdout",
          "text": [
            "loading data!\n",
            "Downloading http://yann.lecun.com/exdb/mnist/train-images-idx3-ubyte.gz\n",
            "Downloading http://yann.lecun.com/exdb/mnist/train-images-idx3-ubyte.gz to data/MNIST/raw/train-images-idx3-ubyte.gz\n"
          ]
        },
        {
          "output_type": "display_data",
          "data": {
            "text/plain": [
              "  0%|          | 0/9912422 [00:00<?, ?it/s]"
            ],
            "application/vnd.jupyter.widget-view+json": {
              "version_major": 2,
              "version_minor": 0,
              "model_id": "fef70102caa142bdbf39392846a19128"
            }
          },
          "metadata": {}
        },
        {
          "output_type": "stream",
          "name": "stdout",
          "text": [
            "Extracting data/MNIST/raw/train-images-idx3-ubyte.gz to data/MNIST/raw\n",
            "\n",
            "Downloading http://yann.lecun.com/exdb/mnist/train-labels-idx1-ubyte.gz\n",
            "Downloading http://yann.lecun.com/exdb/mnist/train-labels-idx1-ubyte.gz to data/MNIST/raw/train-labels-idx1-ubyte.gz\n"
          ]
        },
        {
          "output_type": "display_data",
          "data": {
            "text/plain": [
              "  0%|          | 0/28881 [00:00<?, ?it/s]"
            ],
            "application/vnd.jupyter.widget-view+json": {
              "version_major": 2,
              "version_minor": 0,
              "model_id": "ff683e4391fe4e289fec9f1a94d59736"
            }
          },
          "metadata": {}
        },
        {
          "output_type": "stream",
          "name": "stdout",
          "text": [
            "Extracting data/MNIST/raw/train-labels-idx1-ubyte.gz to data/MNIST/raw\n",
            "\n",
            "Downloading http://yann.lecun.com/exdb/mnist/t10k-images-idx3-ubyte.gz\n",
            "Downloading http://yann.lecun.com/exdb/mnist/t10k-images-idx3-ubyte.gz to data/MNIST/raw/t10k-images-idx3-ubyte.gz\n"
          ]
        },
        {
          "output_type": "display_data",
          "data": {
            "text/plain": [
              "  0%|          | 0/1648877 [00:00<?, ?it/s]"
            ],
            "application/vnd.jupyter.widget-view+json": {
              "version_major": 2,
              "version_minor": 0,
              "model_id": "050df300400740afbf8cfe2f2c9e1b61"
            }
          },
          "metadata": {}
        },
        {
          "output_type": "stream",
          "name": "stdout",
          "text": [
            "Extracting data/MNIST/raw/t10k-images-idx3-ubyte.gz to data/MNIST/raw\n",
            "\n",
            "Downloading http://yann.lecun.com/exdb/mnist/t10k-labels-idx1-ubyte.gz\n",
            "Downloading http://yann.lecun.com/exdb/mnist/t10k-labels-idx1-ubyte.gz to data/MNIST/raw/t10k-labels-idx1-ubyte.gz\n"
          ]
        },
        {
          "output_type": "display_data",
          "data": {
            "text/plain": [
              "  0%|          | 0/4542 [00:00<?, ?it/s]"
            ],
            "application/vnd.jupyter.widget-view+json": {
              "version_major": 2,
              "version_minor": 0,
              "model_id": "95083da7c43b4d6e9bfab87fa0250518"
            }
          },
          "metadata": {}
        },
        {
          "output_type": "stream",
          "name": "stdout",
          "text": [
            "Extracting data/MNIST/raw/t10k-labels-idx1-ubyte.gz to data/MNIST/raw\n",
            "\n"
          ]
        }
      ],
      "source": [
        "# DEFINING MODEL, BCE LOSS, OPTIMIZER\n",
        "\n",
        "# data\n",
        "train_labeled_loader = load_data('data/')[1]\n",
        "\n",
        "# define model\n",
        "# 1) generator\n",
        "encoder = Encoder()\n",
        "decoder = Decoder()\n",
        "# 2) discriminator\n",
        "discriminator = Discriminator()\n",
        "\n",
        "# loss BCE\n",
        "adversarial_loss = nn.BCELoss()\n",
        "reconstruction_loss = nn.BCELoss()\n",
        "\n",
        "# optimizer\n",
        "optimizer_G = torch.optim.Adam(itertools.chain(encoder.parameters(), decoder.parameters()), lr=lr1, betas=(b1, b2))\n",
        "optimizer_D = torch.optim.Adam(discriminator.parameters(), lr=lr2, betas=(b1, b2))\n",
        "\n",
        "if cuda:\n",
        "    encoder.cuda()\n",
        "    decoder.cuda()\n",
        "    discriminator.cuda()\n",
        "    adversarial_loss.cuda()\n",
        "    reconstruction_loss.cuda()\n"
      ]
    },
    {
      "cell_type": "code",
      "execution_count": 6,
      "id": "9994825e",
      "metadata": {
        "colab": {
          "base_uri": "https://localhost:8080/"
        },
        "id": "9994825e",
        "outputId": "1897dd65-c389-4a50-945f-952f15a7d089"
      },
      "outputs": [
        {
          "output_type": "stream",
          "name": "stdout",
          "text": [
            "[Epoch 0/100] [Reconstruction loss: -21.413710] [Discriminator loss: 0.296302]\n",
            "[Epoch 1/100] [Reconstruction loss: -27.368128] [Discriminator loss: 0.232756]\n",
            "[Epoch 2/100] [Reconstruction loss: -30.569582] [Discriminator loss: 0.169806]\n",
            "[Epoch 3/100] [Reconstruction loss: -33.294632] [Discriminator loss: 0.126652]\n",
            "[Epoch 4/100] [Reconstruction loss: -34.484291] [Discriminator loss: 0.112328]\n",
            "[Epoch 5/100] [Reconstruction loss: -35.357784] [Discriminator loss: 0.091765]\n",
            "[Epoch 6/100] [Reconstruction loss: -35.723392] [Discriminator loss: 0.073033]\n",
            "[Epoch 7/100] [Reconstruction loss: -35.871155] [Discriminator loss: 0.059406]\n",
            "[Epoch 8/100] [Reconstruction loss: -36.016811] [Discriminator loss: 0.049505]\n",
            "[Epoch 9/100] [Reconstruction loss: -36.094669] [Discriminator loss: 0.047972]\n",
            "[Epoch 10/100] [Reconstruction loss: -36.049538] [Discriminator loss: 0.039869]\n",
            "[Epoch 11/100] [Reconstruction loss: -36.199116] [Discriminator loss: 0.031064]\n",
            "[Epoch 12/100] [Reconstruction loss: -36.452740] [Discriminator loss: 0.029711]\n",
            "[Epoch 13/100] [Reconstruction loss: -36.507290] [Discriminator loss: 0.025474]\n",
            "[Epoch 14/100] [Reconstruction loss: -36.748032] [Discriminator loss: 0.025586]\n",
            "[Epoch 15/100] [Reconstruction loss: -36.776817] [Discriminator loss: 0.022204]\n",
            "[Epoch 16/100] [Reconstruction loss: -36.886311] [Discriminator loss: 0.017591]\n",
            "[Epoch 17/100] [Reconstruction loss: -37.032742] [Discriminator loss: 0.016385]\n",
            "[Epoch 18/100] [Reconstruction loss: -37.153381] [Discriminator loss: 0.016652]\n",
            "[Epoch 19/100] [Reconstruction loss: -37.335152] [Discriminator loss: 0.011661]\n",
            "[Epoch 20/100] [Reconstruction loss: -37.523415] [Discriminator loss: 0.012914]\n",
            "[Epoch 21/100] [Reconstruction loss: -37.635334] [Discriminator loss: 0.013359]\n",
            "[Epoch 22/100] [Reconstruction loss: -37.696457] [Discriminator loss: 0.008663]\n",
            "[Epoch 23/100] [Reconstruction loss: -37.748280] [Discriminator loss: 0.012853]\n",
            "[Epoch 24/100] [Reconstruction loss: -37.778721] [Discriminator loss: 0.009980]\n",
            "[Epoch 25/100] [Reconstruction loss: -37.900997] [Discriminator loss: 0.009041]\n",
            "[Epoch 26/100] [Reconstruction loss: -37.986168] [Discriminator loss: 0.006399]\n",
            "[Epoch 27/100] [Reconstruction loss: -38.104671] [Discriminator loss: 0.008198]\n",
            "[Epoch 28/100] [Reconstruction loss: -38.237404] [Discriminator loss: 0.008127]\n",
            "[Epoch 29/100] [Reconstruction loss: -38.406734] [Discriminator loss: 0.009000]\n",
            "[Epoch 30/100] [Reconstruction loss: -38.470924] [Discriminator loss: 0.009764]\n",
            "[Epoch 31/100] [Reconstruction loss: -38.488789] [Discriminator loss: 0.006239]\n",
            "[Epoch 32/100] [Reconstruction loss: -38.568295] [Discriminator loss: 0.007137]\n",
            "[Epoch 33/100] [Reconstruction loss: -38.696377] [Discriminator loss: 0.003551]\n",
            "[Epoch 34/100] [Reconstruction loss: -38.683388] [Discriminator loss: 0.006299]\n",
            "[Epoch 35/100] [Reconstruction loss: -38.832169] [Discriminator loss: 0.005467]\n",
            "[Epoch 36/100] [Reconstruction loss: -38.835754] [Discriminator loss: 0.004785]\n",
            "[Epoch 37/100] [Reconstruction loss: -39.013012] [Discriminator loss: 0.004003]\n",
            "[Epoch 38/100] [Reconstruction loss: -39.055489] [Discriminator loss: 0.005765]\n",
            "[Epoch 39/100] [Reconstruction loss: -39.177830] [Discriminator loss: 0.005691]\n",
            "[Epoch 40/100] [Reconstruction loss: -39.234100] [Discriminator loss: 0.004826]\n",
            "[Epoch 41/100] [Reconstruction loss: -39.417641] [Discriminator loss: 0.002980]\n",
            "[Epoch 42/100] [Reconstruction loss: -39.411110] [Discriminator loss: 0.002396]\n",
            "[Epoch 43/100] [Reconstruction loss: -39.398651] [Discriminator loss: 0.004932]\n",
            "[Epoch 44/100] [Reconstruction loss: -39.536514] [Discriminator loss: 0.001901]\n",
            "[Epoch 45/100] [Reconstruction loss: -39.579041] [Discriminator loss: 0.006742]\n",
            "[Epoch 46/100] [Reconstruction loss: -39.697662] [Discriminator loss: 0.002279]\n",
            "[Epoch 47/100] [Reconstruction loss: -39.724129] [Discriminator loss: 0.001264]\n",
            "[Epoch 48/100] [Reconstruction loss: -39.837116] [Discriminator loss: 0.000819]\n",
            "[Epoch 49/100] [Reconstruction loss: -39.889339] [Discriminator loss: 0.003742]\n",
            "[Epoch 50/100] [Reconstruction loss: -39.923534] [Discriminator loss: 0.000765]\n",
            "[Epoch 51/100] [Reconstruction loss: -40.085526] [Discriminator loss: 0.002797]\n",
            "[Epoch 52/100] [Reconstruction loss: -40.206081] [Discriminator loss: 0.001383]\n",
            "[Epoch 53/100] [Reconstruction loss: -40.181438] [Discriminator loss: 0.002549]\n",
            "[Epoch 54/100] [Reconstruction loss: -40.239368] [Discriminator loss: 0.000684]\n",
            "[Epoch 55/100] [Reconstruction loss: -40.277336] [Discriminator loss: 0.004404]\n",
            "[Epoch 56/100] [Reconstruction loss: -40.285172] [Discriminator loss: 0.006404]\n",
            "[Epoch 57/100] [Reconstruction loss: -40.310902] [Discriminator loss: 0.001986]\n",
            "[Epoch 58/100] [Reconstruction loss: -40.382687] [Discriminator loss: 0.002583]\n",
            "[Epoch 59/100] [Reconstruction loss: -40.383347] [Discriminator loss: 0.002820]\n",
            "[Epoch 60/100] [Reconstruction loss: -40.373356] [Discriminator loss: 0.004595]\n",
            "[Epoch 61/100] [Reconstruction loss: -40.377686] [Discriminator loss: 0.001993]\n",
            "[Epoch 62/100] [Reconstruction loss: -40.404087] [Discriminator loss: 0.000840]\n",
            "[Epoch 63/100] [Reconstruction loss: -40.432995] [Discriminator loss: 0.003644]\n",
            "[Epoch 64/100] [Reconstruction loss: -40.425854] [Discriminator loss: 0.006534]\n",
            "[Epoch 65/100] [Reconstruction loss: -40.440830] [Discriminator loss: 0.004638]\n",
            "[Epoch 66/100] [Reconstruction loss: -40.424896] [Discriminator loss: 0.001501]\n",
            "[Epoch 67/100] [Reconstruction loss: -40.523247] [Discriminator loss: 0.000994]\n",
            "[Epoch 68/100] [Reconstruction loss: -40.494751] [Discriminator loss: 0.007981]\n",
            "[Epoch 69/100] [Reconstruction loss: -40.513119] [Discriminator loss: 0.003670]\n",
            "[Epoch 70/100] [Reconstruction loss: -40.566681] [Discriminator loss: 0.001710]\n",
            "[Epoch 71/100] [Reconstruction loss: -40.548080] [Discriminator loss: 0.036264]\n",
            "[Epoch 72/100] [Reconstruction loss: -40.578472] [Discriminator loss: 0.000473]\n",
            "[Epoch 73/100] [Reconstruction loss: -40.586422] [Discriminator loss: 0.001606]\n",
            "[Epoch 74/100] [Reconstruction loss: -40.642456] [Discriminator loss: 0.001994]\n",
            "[Epoch 75/100] [Reconstruction loss: -40.654163] [Discriminator loss: 0.002240]\n",
            "[Epoch 76/100] [Reconstruction loss: -40.704857] [Discriminator loss: 0.013709]\n",
            "[Epoch 77/100] [Reconstruction loss: -40.712280] [Discriminator loss: 0.000766]\n",
            "[Epoch 78/100] [Reconstruction loss: -40.718346] [Discriminator loss: 0.018943]\n",
            "[Epoch 79/100] [Reconstruction loss: -40.712162] [Discriminator loss: 0.003776]\n",
            "[Epoch 80/100] [Reconstruction loss: -40.686970] [Discriminator loss: 0.002660]\n",
            "[Epoch 81/100] [Reconstruction loss: -40.676575] [Discriminator loss: 0.001730]\n",
            "[Epoch 82/100] [Reconstruction loss: -40.667427] [Discriminator loss: 0.004327]\n",
            "[Epoch 83/100] [Reconstruction loss: -40.728367] [Discriminator loss: 0.011299]\n",
            "[Epoch 84/100] [Reconstruction loss: -40.731251] [Discriminator loss: 0.001381]\n",
            "[Epoch 85/100] [Reconstruction loss: -40.768940] [Discriminator loss: 0.019684]\n",
            "[Epoch 86/100] [Reconstruction loss: -40.788612] [Discriminator loss: 0.002287]\n",
            "[Epoch 87/100] [Reconstruction loss: -40.792313] [Discriminator loss: 0.005577]\n",
            "[Epoch 88/100] [Reconstruction loss: -40.776688] [Discriminator loss: 0.001973]\n",
            "[Epoch 89/100] [Reconstruction loss: -40.849724] [Discriminator loss: 0.001615]\n",
            "[Epoch 90/100] [Reconstruction loss: -40.790508] [Discriminator loss: 0.001165]\n",
            "[Epoch 91/100] [Reconstruction loss: -40.806534] [Discriminator loss: 0.003654]\n",
            "[Epoch 92/100] [Reconstruction loss: -40.802032] [Discriminator loss: 0.003245]\n",
            "[Epoch 93/100] [Reconstruction loss: -40.843460] [Discriminator loss: 0.006235]\n",
            "[Epoch 94/100] [Reconstruction loss: -40.817509] [Discriminator loss: 0.010049]\n",
            "[Epoch 95/100] [Reconstruction loss: -40.829502] [Discriminator loss: 0.008445]\n",
            "[Epoch 96/100] [Reconstruction loss: -40.866753] [Discriminator loss: 0.001475]\n",
            "[Epoch 97/100] [Reconstruction loss: -40.808662] [Discriminator loss: 0.001708]\n",
            "[Epoch 98/100] [Reconstruction loss: -40.840157] [Discriminator loss: 0.001675]\n",
            "[Epoch 99/100] [Reconstruction loss: -40.851940] [Discriminator loss: 0.009117]\n"
          ]
        }
      ],
      "source": [
        "# Training (with BCELoss):\n",
        "def sample_image(x,fake_z , n_row, epoch, img_dir):\n",
        "    if not os.path.exists(img_dir):\n",
        "        os.makedirs(img_dir)\n",
        "    \n",
        "    # z = Variable(Tensor(np.random.normal(0,1,(n_row**2, latent_dim))))\n",
        "    generated_imgs = decoder(fake_z)\n",
        "    save_image(generated_imgs.data, os.path.join(img_dir, \"%depoch.png\" % epoch), nrow = n_row, normalize = True)\n",
        "    save_image(x, os.path.join(img_dir, \"%dgiven.png\" % epoch), nrow = n_row, normalize = True)\n",
        "\n",
        "# Training phase\n",
        "R_Loss1 = [];\n",
        "D_Loss1 = [];\n",
        "ep1 = [];\n",
        "accuracy1 = [];\n",
        "for epoch in range(n_epochs):\n",
        "    for i, (x, idx) in enumerate(train_labeled_loader):\n",
        "\n",
        "        valid = Variable(Tensor(x.shape[0], 1).fill_(1.0), requires_grad=False)\n",
        "        fake = Variable(Tensor(x.shape[0], 1).fill_(0.0), requires_grad=False)\n",
        "        if cuda:\n",
        "            x = x.cuda()\n",
        "        \n",
        "        # 1) reconstruction + generator loss\n",
        "        optimizer_G.zero_grad()\n",
        "        fake_z = encoder(x)\n",
        "        decoded_x = decoder(fake_z)\n",
        "        validity_fake_z = discriminator(fake_z)\n",
        "        #for BCE lOSS\n",
        "        G_loss = 0.001*adversarial_loss(validity_fake_z, valid) + 0.999*reconstruction_loss(decoded_x, x)\n",
        "        G_loss.backward()\n",
        "        optimizer_G.step()\n",
        "\n",
        "        # 2) discriminator loss\n",
        "        optimizer_D.zero_grad()\n",
        "        real_z = Variable(Tensor(np.random.normal(0,1,(x.shape[0], latent_dim))))\n",
        "        \n",
        "        #for MSE and BCE loss\n",
        "        real_loss = adversarial_loss(discriminator(real_z), valid)\n",
        "        fake_loss = adversarial_loss(discriminator(fake_z.detach()), fake)\n",
        "        D_loss = 0.5*(real_loss + fake_loss)\n",
        "        D_loss.backward()\n",
        "        optimizer_D.step()\n",
        "        R_Loss1.append(G_loss.item())\n",
        "        D_Loss1.append(D_loss.item())\n",
        "        accuracy1.append(1-D_loss.item())\n",
        "        ep1.append(epoch)\n",
        "    # print loss\n",
        "    print(\n",
        "            \"[Epoch %d/%d] [Reconstruction loss: %f] [Discriminator loss: %f]\"\n",
        "            % (epoch, n_epochs, G_loss.item(), D_loss.item())\n",
        "         )\n",
        "        \n",
        "    sample_image(x,fake_z , n_row = 3, epoch=epoch, img_dir=img_dir)"
      ]
    },
    {
      "cell_type": "code",
      "execution_count": 15,
      "id": "0cc6ca30",
      "metadata": {
        "colab": {
          "base_uri": "https://localhost:8080/",
          "height": 286
        },
        "id": "0cc6ca30",
        "outputId": "4772f571-03fb-4367-8b3b-28d64bd7d486"
      },
      "outputs": [
        {
          "output_type": "execute_result",
          "data": {
            "text/plain": [
              "<matplotlib.image.AxesImage at 0x7f33a2f96810>"
            ]
          },
          "metadata": {},
          "execution_count": 15
        },
        {
          "output_type": "display_data",
          "data": {
            "text/plain": [
              "<Figure size 432x288 with 2 Axes>"
            ],
            "image/png": "[encoded data removed]"
          },
          "metadata": {
            "needs_background": "light"
          }
        }
      ],
      "source": [
        "#PART : 1 \n",
        "\n",
        "im = Image.open('image_basic\\99given.png')\n",
        "im1 = Image.open('image_basic\\99epoch.png')\n",
        "f, axarr = plt.subplots(1,2)\n",
        "axarr[0].imshow(im)\n",
        "axarr[1].imshow(im1)"
      ]
    },
    {
      "cell_type": "code",
      "execution_count": 8,
      "id": "2f82f683",
      "metadata": {
        "colab": {
          "base_uri": "https://localhost:8080/",
          "height": 573
        },
        "id": "2f82f683",
        "outputId": "1a20a432-40fc-4605-fce3-019f32645390"
      },
      "outputs": [
        {
          "output_type": "display_data",
          "data": {
            "text/plain": [
              "<Figure size 432x288 with 1 Axes>"
            ],
            "image/png": "[encoded data removed]"
          },
          "metadata": {
            "needs_background": "light"
          }
        },
        {
          "output_type": "display_data",
          "data": {
            "text/plain": [
              "<Figure size 432x288 with 1 Axes>"
            ],
            "image/png": "[encoded data removed]"
          },
          "metadata": {
            "needs_background": "light"
          }
        }
      ],
      "source": [
        "#PART : 2\n",
        "plt.plot(ep1,R_Loss1)\n",
        "plt.xlabel(\"epoch\")\n",
        "plt.ylabel(\"Reconstruction Loss\")\n",
        "plt.title(\"Reconstruction Loss\")\n",
        "plt.show()\n",
        "plt.plot(ep1,D_Loss1)\n",
        "plt.xlabel(\"Epoch\")\n",
        "plt.ylabel(\"Discriminator Loss\")\n",
        "plt.title(\"Discriminator Loss\")\n",
        "plt.show()"
      ]
    },
    {
      "cell_type": "markdown",
      "id": "2009c583",
      "metadata": {
        "id": "2009c583"
      },
      "source": [
        "# Comment On the Graphs :\n",
        "    We are observing that Reconstruction loss and discriminator loss are both having a decaying nature along with some bumping structure. Since here our encoder decoder and discriminator all of the networks are getting trained. So while training we can observe the convergence will be such that there is a swing in between two points and that will Couse the bumping structure in loss graph."
      ]
    },
    {
      "cell_type": "markdown",
      "id": "38ea9e11",
      "metadata": {
        "id": "38ea9e11"
      },
      "source": [
        "# PART : 3\n",
        "# Training Process of the Vanilla Adversarial Autoencoder\n",
        "\n",
        "    1) Do a forward path through the encoder/decoder part\n",
        "\n",
        "    2)compute the reconstruction loss and update the parameteres of the encoder Q and decoder P networks.\n",
        "\n",
        "    3) Create a latent representation z = Q(x) and take a sample z’ from the prior p(z), run each one through the discriminator and compute the score assigned to each (D(z) and D(z’)).\n",
        "\n",
        "    4) Compute the loss in the discriminator as and backpropagate it through the discriminator network and the encoder  to update its weights. \n"
      ]
    },
    {
      "cell_type": "code",
      "execution_count": 16,
      "id": "8fc8d1f3",
      "metadata": {
        "colab": {
          "base_uri": "https://localhost:8080/"
        },
        "id": "8fc8d1f3",
        "outputId": "7cb6228b-74d2-4666-c52f-6abffbc9410c"
      },
      "outputs": [
        {
          "output_type": "stream",
          "name": "stdout",
          "text": [
            "loading data!\n"
          ]
        }
      ],
      "source": [
        "# DEFINING MODEL,MSE LOSS, OPTIMIZER\n",
        "\n",
        "# data\n",
        "train_labeled_loader = load_data('data/')[1]\n",
        "\n",
        "# define model\n",
        "# 1) generator\n",
        "encoder = Encoder()\n",
        "decoder = Decoder()\n",
        "# 2) discriminator\n",
        "discriminator = Discriminator()\n",
        "\n",
        "# # loss MSE\n",
        "adversarial_loss = nn.MSELoss()\n",
        "reconstruction_loss = nn.MSELoss()\n",
        "\n",
        "# optimizer\n",
        "optimizer_G = torch.optim.Adam(itertools.chain(encoder.parameters(), decoder.parameters()), lr=lr1, betas=(b1, b2))\n",
        "optimizer_D = torch.optim.Adam(discriminator.parameters(), lr=lr2, betas=(b1, b2))\n",
        "\n",
        "if cuda:\n",
        "    encoder.cuda()\n",
        "    decoder.cuda()\n",
        "    discriminator.cuda()\n",
        "    adversarial_loss.cuda()\n",
        "    reconstruction_loss.cuda()\n"
      ]
    },
    {
      "cell_type": "code",
      "execution_count": 17,
      "id": "3fa98c98",
      "metadata": {
        "colab": {
          "base_uri": "https://localhost:8080/"
        },
        "id": "3fa98c98",
        "outputId": "ad5802c2-2b84-4f67-c1c9-5bd1ef194cec"
      },
      "outputs": [
        {
          "output_type": "stream",
          "name": "stdout",
          "text": [
            "[Epoch 0/100] [Reconstruction loss: 0.805204] [Discriminator loss: 0.079756]\n",
            "[Epoch 1/100] [Reconstruction loss: 0.790036] [Discriminator loss: 0.050622]\n",
            "[Epoch 2/100] [Reconstruction loss: 0.780834] [Discriminator loss: 0.041740]\n",
            "[Epoch 3/100] [Reconstruction loss: 0.770990] [Discriminator loss: 0.033366]\n",
            "[Epoch 4/100] [Reconstruction loss: 0.766947] [Discriminator loss: 0.029084]\n",
            "[Epoch 5/100] [Reconstruction loss: 0.762348] [Discriminator loss: 0.026945]\n",
            "[Epoch 6/100] [Reconstruction loss: 0.759753] [Discriminator loss: 0.030163]\n",
            "[Epoch 7/100] [Reconstruction loss: 0.757803] [Discriminator loss: 0.020209]\n",
            "[Epoch 8/100] [Reconstruction loss: 0.756019] [Discriminator loss: 0.015828]\n",
            "[Epoch 9/100] [Reconstruction loss: 0.754762] [Discriminator loss: 0.030737]\n",
            "[Epoch 10/100] [Reconstruction loss: 0.753936] [Discriminator loss: 0.011979]\n",
            "[Epoch 11/100] [Reconstruction loss: 0.753391] [Discriminator loss: 0.016504]\n",
            "[Epoch 12/100] [Reconstruction loss: 0.752348] [Discriminator loss: 0.012196]\n",
            "[Epoch 13/100] [Reconstruction loss: 0.751475] [Discriminator loss: 0.014643]\n",
            "[Epoch 14/100] [Reconstruction loss: 0.750433] [Discriminator loss: 0.040053]\n",
            "[Epoch 15/100] [Reconstruction loss: 0.749487] [Discriminator loss: 0.019620]\n",
            "[Epoch 16/100] [Reconstruction loss: 0.748609] [Discriminator loss: 0.025082]\n",
            "[Epoch 17/100] [Reconstruction loss: 0.747739] [Discriminator loss: 0.028895]\n",
            "[Epoch 18/100] [Reconstruction loss: 0.746748] [Discriminator loss: 0.025923]\n",
            "[Epoch 19/100] [Reconstruction loss: 0.745832] [Discriminator loss: 0.023343]\n",
            "[Epoch 20/100] [Reconstruction loss: 0.745099] [Discriminator loss: 0.039240]\n",
            "[Epoch 21/100] [Reconstruction loss: 0.744395] [Discriminator loss: 0.029613]\n",
            "[Epoch 22/100] [Reconstruction loss: 0.743831] [Discriminator loss: 0.030840]\n",
            "[Epoch 23/100] [Reconstruction loss: 0.743347] [Discriminator loss: 0.041581]\n",
            "[Epoch 24/100] [Reconstruction loss: 0.742705] [Discriminator loss: 0.046629]\n",
            "[Epoch 25/100] [Reconstruction loss: 0.742147] [Discriminator loss: 0.037843]\n",
            "[Epoch 26/100] [Reconstruction loss: 0.741696] [Discriminator loss: 0.043488]\n",
            "[Epoch 27/100] [Reconstruction loss: 0.741374] [Discriminator loss: 0.044300]\n",
            "[Epoch 28/100] [Reconstruction loss: 0.740745] [Discriminator loss: 0.043228]\n",
            "[Epoch 29/100] [Reconstruction loss: 0.740245] [Discriminator loss: 0.052335]\n",
            "[Epoch 30/100] [Reconstruction loss: 0.739712] [Discriminator loss: 0.043451]\n",
            "[Epoch 31/100] [Reconstruction loss: 0.739352] [Discriminator loss: 0.054147]\n",
            "[Epoch 32/100] [Reconstruction loss: 0.738994] [Discriminator loss: 0.047973]\n",
            "[Epoch 33/100] [Reconstruction loss: 0.738810] [Discriminator loss: 0.048967]\n",
            "[Epoch 34/100] [Reconstruction loss: 0.738432] [Discriminator loss: 0.049046]\n",
            "[Epoch 35/100] [Reconstruction loss: 0.738119] [Discriminator loss: 0.059768]\n",
            "[Epoch 36/100] [Reconstruction loss: 0.738143] [Discriminator loss: 0.049001]\n",
            "[Epoch 37/100] [Reconstruction loss: 0.737634] [Discriminator loss: 0.051728]\n",
            "[Epoch 38/100] [Reconstruction loss: 0.737354] [Discriminator loss: 0.070428]\n",
            "[Epoch 39/100] [Reconstruction loss: 0.736999] [Discriminator loss: 0.052943]\n",
            "[Epoch 40/100] [Reconstruction loss: 0.736456] [Discriminator loss: 0.054345]\n",
            "[Epoch 41/100] [Reconstruction loss: 0.735956] [Discriminator loss: 0.055741]\n",
            "[Epoch 42/100] [Reconstruction loss: 0.735635] [Discriminator loss: 0.055082]\n",
            "[Epoch 43/100] [Reconstruction loss: 0.735075] [Discriminator loss: 0.056254]\n",
            "[Epoch 44/100] [Reconstruction loss: 0.734633] [Discriminator loss: 0.059945]\n",
            "[Epoch 45/100] [Reconstruction loss: 0.734206] [Discriminator loss: 0.053558]\n",
            "[Epoch 46/100] [Reconstruction loss: 0.733721] [Discriminator loss: 0.054989]\n",
            "[Epoch 47/100] [Reconstruction loss: 0.733589] [Discriminator loss: 0.054771]\n",
            "[Epoch 48/100] [Reconstruction loss: 0.733350] [Discriminator loss: 0.059815]\n",
            "[Epoch 49/100] [Reconstruction loss: 0.732777] [Discriminator loss: 0.053626]\n",
            "[Epoch 50/100] [Reconstruction loss: 0.732448] [Discriminator loss: 0.051626]\n",
            "[Epoch 51/100] [Reconstruction loss: 0.732760] [Discriminator loss: 0.054122]\n",
            "[Epoch 52/100] [Reconstruction loss: 0.732095] [Discriminator loss: 0.053680]\n",
            "[Epoch 53/100] [Reconstruction loss: 0.732044] [Discriminator loss: 0.053366]\n",
            "[Epoch 54/100] [Reconstruction loss: 0.731552] [Discriminator loss: 0.052513]\n",
            "[Epoch 55/100] [Reconstruction loss: 0.731542] [Discriminator loss: 0.051433]\n",
            "[Epoch 56/100] [Reconstruction loss: 0.731427] [Discriminator loss: 0.091390]\n",
            "[Epoch 57/100] [Reconstruction loss: 0.731433] [Discriminator loss: 0.075207]\n",
            "[Epoch 58/100] [Reconstruction loss: 0.731161] [Discriminator loss: 0.052557]\n",
            "[Epoch 59/100] [Reconstruction loss: 0.730888] [Discriminator loss: 0.052707]\n",
            "[Epoch 60/100] [Reconstruction loss: 0.730721] [Discriminator loss: 0.085709]\n",
            "[Epoch 61/100] [Reconstruction loss: 0.731170] [Discriminator loss: 0.049435]\n",
            "[Epoch 62/100] [Reconstruction loss: 0.730298] [Discriminator loss: 0.049936]\n",
            "[Epoch 63/100] [Reconstruction loss: 0.730178] [Discriminator loss: 0.053452]\n",
            "[Epoch 64/100] [Reconstruction loss: 0.729540] [Discriminator loss: 0.054977]\n",
            "[Epoch 65/100] [Reconstruction loss: 0.730035] [Discriminator loss: 0.051348]\n",
            "[Epoch 66/100] [Reconstruction loss: 0.729524] [Discriminator loss: 0.051775]\n",
            "[Epoch 67/100] [Reconstruction loss: 0.729063] [Discriminator loss: 0.050874]\n",
            "[Epoch 68/100] [Reconstruction loss: 0.729441] [Discriminator loss: 0.056155]\n",
            "[Epoch 69/100] [Reconstruction loss: 0.729564] [Discriminator loss: 0.050524]\n",
            "[Epoch 70/100] [Reconstruction loss: 0.729367] [Discriminator loss: 0.058068]\n",
            "[Epoch 71/100] [Reconstruction loss: 0.729061] [Discriminator loss: 0.056064]\n",
            "[Epoch 72/100] [Reconstruction loss: 0.729137] [Discriminator loss: 0.058151]\n",
            "[Epoch 73/100] [Reconstruction loss: 0.728043] [Discriminator loss: 0.048378]\n",
            "[Epoch 74/100] [Reconstruction loss: 0.728392] [Discriminator loss: 0.054155]\n",
            "[Epoch 75/100] [Reconstruction loss: 0.727646] [Discriminator loss: 0.054024]\n",
            "[Epoch 76/100] [Reconstruction loss: 0.727419] [Discriminator loss: 0.054953]\n",
            "[Epoch 77/100] [Reconstruction loss: 0.728513] [Discriminator loss: 0.056803]\n",
            "[Epoch 78/100] [Reconstruction loss: 0.727275] [Discriminator loss: 0.052851]\n",
            "[Epoch 79/100] [Reconstruction loss: 0.727519] [Discriminator loss: 0.046155]\n",
            "[Epoch 80/100] [Reconstruction loss: 0.726627] [Discriminator loss: 0.052787]\n",
            "[Epoch 81/100] [Reconstruction loss: 0.727157] [Discriminator loss: 0.052094]\n",
            "[Epoch 82/100] [Reconstruction loss: 0.726499] [Discriminator loss: 0.051161]\n",
            "[Epoch 83/100] [Reconstruction loss: 0.726217] [Discriminator loss: 0.056465]\n",
            "[Epoch 84/100] [Reconstruction loss: 0.726031] [Discriminator loss: 0.054185]\n",
            "[Epoch 85/100] [Reconstruction loss: 0.727078] [Discriminator loss: 0.055169]\n",
            "[Epoch 86/100] [Reconstruction loss: 0.725841] [Discriminator loss: 0.059975]\n",
            "[Epoch 87/100] [Reconstruction loss: 0.726404] [Discriminator loss: 0.054468]\n",
            "[Epoch 88/100] [Reconstruction loss: 0.725334] [Discriminator loss: 0.046886]\n",
            "[Epoch 89/100] [Reconstruction loss: 0.725140] [Discriminator loss: 0.054108]\n",
            "[Epoch 90/100] [Reconstruction loss: 0.725048] [Discriminator loss: 0.054328]\n",
            "[Epoch 91/100] [Reconstruction loss: 0.725682] [Discriminator loss: 0.052745]\n",
            "[Epoch 92/100] [Reconstruction loss: 0.725002] [Discriminator loss: 0.054369]\n",
            "[Epoch 93/100] [Reconstruction loss: 0.725060] [Discriminator loss: 0.061388]\n",
            "[Epoch 94/100] [Reconstruction loss: 0.725403] [Discriminator loss: 0.051665]\n",
            "[Epoch 95/100] [Reconstruction loss: 0.725024] [Discriminator loss: 0.069740]\n",
            "[Epoch 96/100] [Reconstruction loss: 0.724053] [Discriminator loss: 0.053011]\n",
            "[Epoch 97/100] [Reconstruction loss: 0.724553] [Discriminator loss: 0.056004]\n",
            "[Epoch 98/100] [Reconstruction loss: 0.724577] [Discriminator loss: 0.052525]\n",
            "[Epoch 99/100] [Reconstruction loss: 0.724043] [Discriminator loss: 0.060881]\n"
          ]
        }
      ],
      "source": [
        "# Training USING MSE Loss\n",
        "R_Loss2 = [];\n",
        "D_Loss2 = [];\n",
        "ep2 = [];\n",
        "accuracy2 = [];\n",
        "for epoch in range(n_epochs):\n",
        "    for i, (x, idx) in enumerate(train_labeled_loader):\n",
        "\n",
        "        valid = Variable(Tensor(x.shape[0], 1).fill_(1.0), requires_grad=False)\n",
        "        fake = Variable(Tensor(x.shape[0], 1).fill_(0.0), requires_grad=False)\n",
        "        if cuda:\n",
        "            x = x.cuda()\n",
        "        \n",
        "        # 1) reconstruction + generator loss\n",
        "        optimizer_G.zero_grad()\n",
        "        fake_z = encoder(x)\n",
        "        decoded_x = decoder(fake_z)\n",
        "        validity_fake_z = discriminator(fake_z)\n",
        "        \n",
        "        #for MSE Loss\n",
        "        G_loss = 0.001*adversarial_loss(validity_fake_z, valid) + 0.999*reconstruction_loss(decoded_x, x)\n",
        "        G_loss.backward()\n",
        "        optimizer_G.step()\n",
        "\n",
        "        # 2) discriminator loss\n",
        "        optimizer_D.zero_grad()\n",
        "        real_z = Variable(Tensor(np.random.normal(0,1,(x.shape[0], latent_dim))))\n",
        "    \n",
        "        #for MSE loss\n",
        "        real_loss = adversarial_loss(discriminator(real_z), valid)\n",
        "        fake_loss = adversarial_loss(discriminator(fake_z.detach()), fake)\n",
        "        D_loss = 0.5*(real_loss + fake_loss)\n",
        "        D_loss.backward()\n",
        "        optimizer_D.step()\n",
        "        R_Loss2.append(G_loss.item())\n",
        "        D_Loss2.append(D_loss.item())\n",
        "        accuracy2.append(1-D_loss.item())\n",
        "        ep2.append(epoch)\n",
        "    # print loss\n",
        "    print(\n",
        "            \"[Epoch %d/%d] [Reconstruction loss: %f] [Discriminator loss: %f]\"\n",
        "            % (epoch, n_epochs, G_loss.item(), D_loss.item())\n",
        "         )\n",
        "        \n",
        "    sample_image(x,fake_z , n_row = 3, epoch=epoch, img_dir=img_dir)"
      ]
    },
    {
      "cell_type": "code",
      "execution_count": 18,
      "id": "bf5f9d69",
      "metadata": {
        "colab": {
          "base_uri": "https://localhost:8080/",
          "height": 286
        },
        "id": "bf5f9d69",
        "outputId": "97a046e9-c35e-42d6-ba7c-14e818616f8d"
      },
      "outputs": [
        {
          "output_type": "execute_result",
          "data": {
            "text/plain": [
              "<matplotlib.image.AxesImage at 0x7f34bb7017d0>"
            ]
          },
          "metadata": {},
          "execution_count": 18
        },
        {
          "output_type": "display_data",
          "data": {
            "text/plain": [
              "<Figure size 432x288 with 2 Axes>"
            ],
            "image/png": "[encoded data removed]"
          },
          "metadata": {
            "needs_background": "light"
          }
        }
      ],
      "source": [
        "#PART : 1 \n",
        "im = Image.open('image_basic\\99given.png')\n",
        "im1 = Image.open('image_basic\\99epoch.png')\n",
        "f, axarr = plt.subplots(1,2)\n",
        "axarr[0].imshow(im)\n",
        "axarr[1].imshow(im1)"
      ]
    },
    {
      "cell_type": "code",
      "execution_count": 19,
      "id": "2a664d15",
      "metadata": {
        "colab": {
          "base_uri": "https://localhost:8080/",
          "height": 573
        },
        "id": "2a664d15",
        "outputId": "c3c2c9d4-b918-492f-f8fc-6e3b42b3ddd4"
      },
      "outputs": [
        {
          "output_type": "display_data",
          "data": {
            "text/plain": [
              "<Figure size 432x288 with 1 Axes>"
            ],
            "image/png": "[encoded data removed]"
          },
          "metadata": {
            "needs_background": "light"
          }
        },
        {
          "output_type": "display_data",
          "data": {
            "text/plain": [
              "<Figure size 432x288 with 1 Axes>"
            ],
            "image/png": "[encoded data removed]"
          },
          "metadata": {
            "needs_background": "light"
          }
        }
      ],
      "source": [
        "#PART : 2\n",
        "plt.plot(ep2,R_Loss2)\n",
        "plt.xlabel(\"epoch\")\n",
        "plt.ylabel(\"Reconstruction Loss\")\n",
        "plt.title(\"Reconstruction Loss\")\n",
        "plt.show()\n",
        "plt.plot(ep2,D_Loss2)\n",
        "plt.xlabel(\"Epoch\")\n",
        "plt.ylabel(\"Discriminator Loss\")\n",
        "plt.title(\"Discriminator Loss\")\n",
        "plt.show()"
      ]
    },
    {
      "cell_type": "code",
      "execution_count": 20,
      "id": "184ca783",
      "metadata": {
        "colab": {
          "base_uri": "https://localhost:8080/"
        },
        "id": "184ca783",
        "outputId": "c45ea9a3-b78f-4114-c91b-8c7738b4cf9e"
      },
      "outputs": [
        {
          "output_type": "stream",
          "name": "stdout",
          "text": [
            "loading data!\n"
          ]
        }
      ],
      "source": [
        "# DEFINING MODEL,SSIM LOSS, OPTIMIZER\n",
        "\n",
        "# data\n",
        "train_labeled_loader = load_data('data/')[1]\n",
        "\n",
        "# define model\n",
        "# 1) generator\n",
        "encoder = Encoder()\n",
        "decoder = Decoder()\n",
        "# 2) discriminator\n",
        "discriminator = Discriminator()\n",
        "\n",
        "\n",
        "# loss SSIM\n",
        "\n",
        "adversarial_loss = tgm.losses.SSIM(5, reduction='mean').cuda()\n",
        "reconstruction_loss = tgm.losses.SSIM(5, reduction='mean').cuda()\n",
        "\n",
        "# optimizer\n",
        "optimizer_G = torch.optim.Adam(itertools.chain(encoder.parameters(), decoder.parameters()), lr=lr1, betas=(b1, b2))\n",
        "optimizer_D = torch.optim.Adam(discriminator.parameters(), lr=lr2, betas=(b1, b2))\n",
        "\n",
        "if cuda:\n",
        "    encoder.cuda()\n",
        "    decoder.cuda()\n",
        "    discriminator.cuda()\n",
        "    adversarial_loss.cuda()\n",
        "    reconstruction_loss.cuda()"
      ]
    },
    {
      "cell_type": "code",
      "execution_count": 21,
      "id": "f7a04371",
      "metadata": {
        "colab": {
          "base_uri": "https://localhost:8080/"
        },
        "id": "f7a04371",
        "outputId": "7f75e370-d3e3-400d-c29e-89b8432b8d9e"
      },
      "outputs": [
        {
          "output_type": "stream",
          "name": "stdout",
          "text": [
            "[Epoch 0/100] [Reconstruction loss: 0.351891] [Discriminator loss: 0.271329]\n",
            "[Epoch 1/100] [Reconstruction loss: 0.351708] [Discriminator loss: 0.257875]\n",
            "[Epoch 2/100] [Reconstruction loss: 0.351712] [Discriminator loss: 0.255039]\n",
            "[Epoch 3/100] [Reconstruction loss: 0.351511] [Discriminator loss: 0.253922]\n",
            "[Epoch 4/100] [Reconstruction loss: 0.350847] [Discriminator loss: 0.252312]\n",
            "[Epoch 5/100] [Reconstruction loss: 0.350000] [Discriminator loss: 0.252288]\n",
            "[Epoch 6/100] [Reconstruction loss: 0.349551] [Discriminator loss: 0.251408]\n",
            "[Epoch 7/100] [Reconstruction loss: 0.349015] [Discriminator loss: 0.251594]\n",
            "[Epoch 8/100] [Reconstruction loss: 0.346992] [Discriminator loss: 0.250608]\n",
            "[Epoch 9/100] [Reconstruction loss: 0.346606] [Discriminator loss: 0.250336]\n",
            "[Epoch 10/100] [Reconstruction loss: 0.346450] [Discriminator loss: 0.250693]\n",
            "[Epoch 11/100] [Reconstruction loss: 0.346352] [Discriminator loss: 0.250800]\n",
            "[Epoch 12/100] [Reconstruction loss: 0.346176] [Discriminator loss: 0.250498]\n",
            "[Epoch 13/100] [Reconstruction loss: 0.345965] [Discriminator loss: 0.250399]\n",
            "[Epoch 14/100] [Reconstruction loss: 0.345748] [Discriminator loss: 0.250228]\n",
            "[Epoch 15/100] [Reconstruction loss: 0.345601] [Discriminator loss: 0.250337]\n",
            "[Epoch 16/100] [Reconstruction loss: 0.345512] [Discriminator loss: 0.250266]\n",
            "[Epoch 17/100] [Reconstruction loss: 0.345445] [Discriminator loss: 0.250438]\n",
            "[Epoch 18/100] [Reconstruction loss: 0.345384] [Discriminator loss: 0.250163]\n",
            "[Epoch 19/100] [Reconstruction loss: 0.345316] [Discriminator loss: 0.250249]\n",
            "[Epoch 20/100] [Reconstruction loss: 0.345270] [Discriminator loss: 0.250159]\n",
            "[Epoch 21/100] [Reconstruction loss: 0.345220] [Discriminator loss: 0.250165]\n",
            "[Epoch 22/100] [Reconstruction loss: 0.345157] [Discriminator loss: 0.250220]\n",
            "[Epoch 23/100] [Reconstruction loss: 0.345080] [Discriminator loss: 0.250125]\n",
            "[Epoch 24/100] [Reconstruction loss: 0.345048] [Discriminator loss: 0.250054]\n",
            "[Epoch 25/100] [Reconstruction loss: 0.344979] [Discriminator loss: 0.250161]\n",
            "[Epoch 26/100] [Reconstruction loss: 0.344935] [Discriminator loss: 0.250096]\n",
            "[Epoch 27/100] [Reconstruction loss: 0.344812] [Discriminator loss: 0.250096]\n",
            "[Epoch 28/100] [Reconstruction loss: 0.344731] [Discriminator loss: 0.250081]\n",
            "[Epoch 29/100] [Reconstruction loss: 0.344643] [Discriminator loss: 0.250048]\n",
            "[Epoch 30/100] [Reconstruction loss: 0.344611] [Discriminator loss: 0.250065]\n",
            "[Epoch 31/100] [Reconstruction loss: 0.344552] [Discriminator loss: 0.250057]\n",
            "[Epoch 32/100] [Reconstruction loss: 0.344518] [Discriminator loss: 0.250054]\n",
            "[Epoch 33/100] [Reconstruction loss: 0.344480] [Discriminator loss: 0.250052]\n",
            "[Epoch 34/100] [Reconstruction loss: 0.344460] [Discriminator loss: 0.250048]\n",
            "[Epoch 35/100] [Reconstruction loss: 0.344433] [Discriminator loss: 0.250045]\n",
            "[Epoch 36/100] [Reconstruction loss: 0.344369] [Discriminator loss: 0.250047]\n",
            "[Epoch 37/100] [Reconstruction loss: 0.344366] [Discriminator loss: 0.250004]\n",
            "[Epoch 38/100] [Reconstruction loss: 0.344333] [Discriminator loss: 0.250029]\n",
            "[Epoch 39/100] [Reconstruction loss: 0.344291] [Discriminator loss: 0.250011]\n",
            "[Epoch 40/100] [Reconstruction loss: 0.344254] [Discriminator loss: 0.250025]\n",
            "[Epoch 41/100] [Reconstruction loss: 0.344235] [Discriminator loss: 0.250013]\n",
            "[Epoch 42/100] [Reconstruction loss: 0.344162] [Discriminator loss: 0.250022]\n",
            "[Epoch 43/100] [Reconstruction loss: 0.344126] [Discriminator loss: 0.250014]\n",
            "[Epoch 44/100] [Reconstruction loss: 0.344125] [Discriminator loss: 0.250013]\n",
            "[Epoch 45/100] [Reconstruction loss: 0.344113] [Discriminator loss: 0.250017]\n",
            "[Epoch 46/100] [Reconstruction loss: 0.343984] [Discriminator loss: 0.250016]\n",
            "[Epoch 47/100] [Reconstruction loss: 0.343946] [Discriminator loss: 0.250010]\n",
            "[Epoch 48/100] [Reconstruction loss: 0.343950] [Discriminator loss: 0.250007]\n",
            "[Epoch 49/100] [Reconstruction loss: 0.343972] [Discriminator loss: 0.250006]\n",
            "[Epoch 50/100] [Reconstruction loss: 0.343871] [Discriminator loss: 0.250011]\n",
            "[Epoch 51/100] [Reconstruction loss: 0.343844] [Discriminator loss: 0.250005]\n",
            "[Epoch 52/100] [Reconstruction loss: 0.343815] [Discriminator loss: 0.250004]\n",
            "[Epoch 53/100] [Reconstruction loss: 0.343796] [Discriminator loss: 0.250005]\n",
            "[Epoch 54/100] [Reconstruction loss: 0.343738] [Discriminator loss: 0.250007]\n",
            "[Epoch 55/100] [Reconstruction loss: 0.343685] [Discriminator loss: 0.250004]\n",
            "[Epoch 56/100] [Reconstruction loss: 0.343570] [Discriminator loss: 0.250003]\n",
            "[Epoch 57/100] [Reconstruction loss: 0.343555] [Discriminator loss: 0.250003]\n",
            "[Epoch 58/100] [Reconstruction loss: 0.343576] [Discriminator loss: 0.250004]\n",
            "[Epoch 59/100] [Reconstruction loss: 0.343581] [Discriminator loss: 0.250002]\n",
            "[Epoch 60/100] [Reconstruction loss: 0.343508] [Discriminator loss: 0.250002]\n",
            "[Epoch 61/100] [Reconstruction loss: 0.343515] [Discriminator loss: 0.250003]\n",
            "[Epoch 62/100] [Reconstruction loss: 0.343400] [Discriminator loss: 0.250001]\n",
            "[Epoch 63/100] [Reconstruction loss: 0.343417] [Discriminator loss: 0.250001]\n",
            "[Epoch 64/100] [Reconstruction loss: 0.343394] [Discriminator loss: 0.250001]\n",
            "[Epoch 65/100] [Reconstruction loss: 0.343373] [Discriminator loss: 0.250001]\n",
            "[Epoch 66/100] [Reconstruction loss: 0.343424] [Discriminator loss: 0.250001]\n",
            "[Epoch 67/100] [Reconstruction loss: 0.343354] [Discriminator loss: 0.250000]\n",
            "[Epoch 68/100] [Reconstruction loss: 0.343375] [Discriminator loss: 0.250001]\n",
            "[Epoch 69/100] [Reconstruction loss: 0.343316] [Discriminator loss: 0.250001]\n",
            "[Epoch 70/100] [Reconstruction loss: 0.343347] [Discriminator loss: 0.250001]\n",
            "[Epoch 71/100] [Reconstruction loss: 0.343371] [Discriminator loss: 0.250001]\n",
            "[Epoch 72/100] [Reconstruction loss: 0.343301] [Discriminator loss: 0.249999]\n",
            "[Epoch 73/100] [Reconstruction loss: 0.343304] [Discriminator loss: 0.250000]\n",
            "[Epoch 74/100] [Reconstruction loss: 0.343347] [Discriminator loss: 0.250000]\n",
            "[Epoch 75/100] [Reconstruction loss: 0.343278] [Discriminator loss: 0.250000]\n",
            "[Epoch 76/100] [Reconstruction loss: 0.343214] [Discriminator loss: 0.250000]\n",
            "[Epoch 77/100] [Reconstruction loss: 0.343248] [Discriminator loss: 0.250000]\n",
            "[Epoch 78/100] [Reconstruction loss: 0.343256] [Discriminator loss: 0.249999]\n",
            "[Epoch 79/100] [Reconstruction loss: 0.343198] [Discriminator loss: 0.249999]\n",
            "[Epoch 80/100] [Reconstruction loss: 0.343136] [Discriminator loss: 0.249999]\n",
            "[Epoch 81/100] [Reconstruction loss: 0.343148] [Discriminator loss: 0.249999]\n",
            "[Epoch 82/100] [Reconstruction loss: 0.343097] [Discriminator loss: 0.249999]\n",
            "[Epoch 83/100] [Reconstruction loss: 0.343093] [Discriminator loss: 0.249999]\n",
            "[Epoch 84/100] [Reconstruction loss: 0.343135] [Discriminator loss: 0.249999]\n",
            "[Epoch 85/100] [Reconstruction loss: 0.343173] [Discriminator loss: 0.249999]\n",
            "[Epoch 86/100] [Reconstruction loss: 0.343113] [Discriminator loss: 0.249999]\n",
            "[Epoch 87/100] [Reconstruction loss: 0.343118] [Discriminator loss: 0.249999]\n",
            "[Epoch 88/100] [Reconstruction loss: 0.343055] [Discriminator loss: 0.249999]\n",
            "[Epoch 89/100] [Reconstruction loss: 0.343056] [Discriminator loss: 0.249999]\n",
            "[Epoch 90/100] [Reconstruction loss: 0.343016] [Discriminator loss: 0.249999]\n",
            "[Epoch 91/100] [Reconstruction loss: 0.343011] [Discriminator loss: 0.249999]\n",
            "[Epoch 92/100] [Reconstruction loss: 0.343053] [Discriminator loss: 0.249999]\n",
            "[Epoch 93/100] [Reconstruction loss: 0.342978] [Discriminator loss: 0.249998]\n",
            "[Epoch 94/100] [Reconstruction loss: 0.342943] [Discriminator loss: 0.249999]\n",
            "[Epoch 95/100] [Reconstruction loss: 0.343180] [Discriminator loss: 0.249999]\n",
            "[Epoch 96/100] [Reconstruction loss: 0.343038] [Discriminator loss: 0.249999]\n",
            "[Epoch 97/100] [Reconstruction loss: 0.342896] [Discriminator loss: 0.249999]\n",
            "[Epoch 98/100] [Reconstruction loss: 0.342955] [Discriminator loss: 0.249998]\n",
            "[Epoch 99/100] [Reconstruction loss: 0.342898] [Discriminator loss: 0.249999]\n"
          ]
        }
      ],
      "source": [
        "# Training USING SSIM Loss\n",
        "R_Loss3 = [];\n",
        "D_Loss3 = [];\n",
        "ep3 = [];\n",
        "accuracy3 = [];\n",
        "for epoch in range(n_epochs):\n",
        "    for i, (x, idx) in enumerate(train_labeled_loader):\n",
        "\n",
        "        valid = Variable(Tensor(x.shape[0], 1).fill_(1.0), requires_grad=False)\n",
        "        fake = Variable(Tensor(x.shape[0], 1).fill_(0.0), requires_grad=False)\n",
        "        if cuda:\n",
        "            x = x.cuda()\n",
        "        \n",
        "        # 1) reconstruction + generator loss\n",
        "        optimizer_G.zero_grad()\n",
        "        fake_z = encoder(x)\n",
        "        decoded_x = decoder(fake_z)\n",
        "        validity_fake_z = discriminator(fake_z)\n",
        "        #for SSIM loss\n",
        "        G_loss = 0.001*(adversarial_loss(validity_fake_z.view(1,1,fake_z.shape[0],1), valid.view(1,1,fake_z.shape[0],1))) + 0.999*(reconstruction_loss(decoded_x, x))\n",
        "        G_loss.backward()\n",
        "        optimizer_G.step()\n",
        "\n",
        "        # 2) discriminator loss\n",
        "        optimizer_D.zero_grad()\n",
        "        real_z = Variable(Tensor(np.random.normal(0,1,(x.shape[0], latent_dim))))\n",
        "        #for SSIM loss\n",
        "        real_loss = adversarial_loss(discriminator(real_z).view(1,1,fake_z.shape[0],1), valid.view(1,1,fake_z.shape[0],1))\n",
        "        fake_loss = adversarial_loss(discriminator(fake_z.detach()).view(1,1,fake_z.shape[0],1), fake.view(1,1,fake_z.shape[0],1))\n",
        "        D_loss = 0.5*(real_loss + fake_loss)\n",
        "        D_loss.backward()\n",
        "        optimizer_D.step()\n",
        "        R_Loss3.append(G_loss.item())\n",
        "        D_Loss3.append(D_loss.item())\n",
        "        accuracy3.append(1-D_loss.item())\n",
        "        ep3.append(epoch)\n",
        "    # print loss\n",
        "    print(\n",
        "            \"[Epoch %d/%d] [Reconstruction loss: %f] [Discriminator loss: %f]\"\n",
        "            % (epoch, n_epochs, G_loss.item(), D_loss.item())\n",
        "         )\n",
        "        \n",
        "    sample_image(x,fake_z , n_row = 3, epoch=epoch, img_dir=img_dir)"
      ]
    },
    {
      "cell_type": "code",
      "execution_count": 22,
      "id": "59e9ce87",
      "metadata": {
        "colab": {
          "base_uri": "https://localhost:8080/",
          "height": 286
        },
        "id": "59e9ce87",
        "outputId": "f760b664-5fb9-41b1-8b64-3a88499cd4ad"
      },
      "outputs": [
        {
          "output_type": "execute_result",
          "data": {
            "text/plain": [
              "<matplotlib.image.AxesImage at 0x7f33a2a38e10>"
            ]
          },
          "metadata": {},
          "execution_count": 22
        },
        {
          "output_type": "display_data",
          "data": {
            "text/plain": [
              "<Figure size 432x288 with 2 Axes>"
            ],
            "image/png": "[encoded data removed]"
          },
          "metadata": {
            "needs_background": "light"
          }
        }
      ],
      "source": [
        "#PART : 1 \n",
        "im = Image.open('image_basic\\99given.png')\n",
        "im1 = Image.open('image_basic\\99epoch.png')\n",
        "f, axarr = plt.subplots(1,2)\n",
        "axarr[0].imshow(im)\n",
        "axarr[1].imshow(im1)"
      ]
    },
    {
      "cell_type": "code",
      "execution_count": 23,
      "id": "19473712",
      "metadata": {
        "colab": {
          "base_uri": "https://localhost:8080/",
          "height": 573
        },
        "id": "19473712",
        "outputId": "b0550e76-5bb6-4105-8f49-3b39b11e03db"
      },
      "outputs": [
        {
          "output_type": "display_data",
          "data": {
            "text/plain": [
              "<Figure size 432x288 with 1 Axes>"
            ],
            "image/png": "[encoded data removed]"
          },
          "metadata": {
            "needs_background": "light"
          }
        },
        {
          "output_type": "display_data",
          "data": {
            "text/plain": [
              "<Figure size 432x288 with 1 Axes>"
            ],
            "image/png": "[encoded data removed]"
          },
          "metadata": {
            "needs_background": "light"
          }
        }
      ],
      "source": [
        "#PART : 2\n",
        "plt.plot(ep3,R_Loss3)\n",
        "plt.xlabel(\"epoch\")\n",
        "plt.ylabel(\"Reconstruction Loss\")\n",
        "plt.title(\"Reconstruction Loss\")\n",
        "plt.show()\n",
        "plt.plot(ep3,D_Loss3)\n",
        "plt.xlabel(\"Epoch\")\n",
        "plt.ylabel(\"Discriminator Loss\")\n",
        "plt.title(\"Discriminator Loss\")\n",
        "plt.show()"
      ]
    },
    {
      "cell_type": "code",
      "execution_count": 24,
      "id": "a3164b8e",
      "metadata": {
        "colab": {
          "base_uri": "https://localhost:8080/",
          "height": 1000
        },
        "id": "a3164b8e",
        "outputId": "5e6aa5c0-5046-4bbe-c4e7-65f7aef70a87"
      },
      "outputs": [
        {
          "output_type": "display_data",
          "data": {
            "text/plain": [
              "<Figure size 432x288 with 1 Axes>"
            ],
            "image/png": "[encoded data removed]"
          },
          "metadata": {
            "needs_background": "light"
          }
        },
        {
          "output_type": "display_data",
          "data": {
            "text/plain": [
              "<Figure size 432x288 with 1 Axes>"
            ],
            "image/png": "[encoded data removed]"
          },
          "metadata": {
            "needs_background": "light"
          }
        },
        {
          "output_type": "display_data",
          "data": {
            "text/plain": [
              "<Figure size 432x288 with 1 Axes>"
            ],
            "image/png": "[encoded data removed]"
          },
          "metadata": {
            "needs_background": "light"
          }
        },
        {
          "output_type": "display_data",
          "data": {
            "text/plain": [
              "<Figure size 432x288 with 1 Axes>"
            ],
            "image/png": "[encoded data removed]"
          },
          "metadata": {
            "needs_background": "light"
          }
        },
        {
          "output_type": "display_data",
          "data": {
            "text/plain": [
              "<Figure size 432x288 with 1 Axes>"
            ],
            "image/png": "[encoded data removed]"
          },
          "metadata": {
            "needs_background": "light"
          }
        },
        {
          "output_type": "display_data",
          "data": {
            "text/plain": [
              "<Figure size 432x288 with 1 Axes>"
            ],
            "image/png": "[encoded data removed]"
          },
          "metadata": {
            "needs_background": "light"
          }
        }
      ],
      "source": [
        "# PART 4 :\n",
        "#BCE LOSS\n",
        "plt.plot(ep1,D_Loss1)\n",
        "plt.xlabel(\"Epoch\")\n",
        "plt.ylabel(\"Discriminator Loss\")\n",
        "plt.title(\"Discriminator Loss for BCELOSS as Loss function\")\n",
        "plt.show()\n",
        "plt.plot(ep1,accuracy1)\n",
        "plt.xlabel(\"Epoch\")\n",
        "plt.ylabel(\"Accuracy\")\n",
        "plt.title(\"Accuracy for BCELOSS as Loss function\")\n",
        "plt.show()\n",
        "\n",
        "#MSE LOSS\n",
        "plt.plot(ep2,D_Loss2)\n",
        "plt.xlabel(\"Epoch\")\n",
        "plt.ylabel(\"Discriminator Loss\")\n",
        "plt.title(\"Discriminator Loss for MSELOSS as Loss function\")\n",
        "plt.show()\n",
        "plt.plot(ep2,accuracy2)\n",
        "plt.xlabel(\"Epoch\")\n",
        "plt.ylabel(\"Accuracy\")\n",
        "plt.title(\"Accuracy for MSELOSS as Loss function\")\n",
        "plt.show()\n",
        "\n",
        "#SSIM LOSS\n",
        "plt.plot(ep3,D_Loss3)\n",
        "plt.xlabel(\"Epoch\")\n",
        "plt.ylabel(\"Discriminator Loss\")\n",
        "plt.title(\"Discriminator Loss for SSIM LOSS as Loss function\")\n",
        "plt.show()\n",
        "plt.plot(ep3,accuracy3)\n",
        "plt.xlabel(\"Epoch\")\n",
        "plt.ylabel(\"Accuracy\")\n",
        "plt.title(\"Accuracy for SSIM LOSS as Loss function\")\n",
        "plt.show()"
      ]
    },
    {
      "cell_type": "markdown",
      "id": "f5b009d7",
      "metadata": {
        "id": "f5b009d7"
      },
      "source": [
        " # Comment on the Loss function\n",
        " \n",
        "     We observe that the Loss for BCE is having less variation as compared to other Loss function. And Gives more accurate convergence as compared to other Losses. We observe that SSIM loss is having less variation but convergence is not accurate. So, Most suggested is Binary Cross entropy Loss.  "
      ]
    }
  ],
  "metadata": {
    "kernelspec": {
      "display_name": "Python 3 (ipykernel)",
      "language": "python",
      "name": "python3"
    },
    "language_info": {
      "codemirror_mode": {
        "name": "ipython",
        "version": 3
      },
      "file_extension": ".py",
      "mimetype": "text/x-python",
      "name": "python",
      "nbconvert_exporter": "python",
      "pygments_lexer": "ipython3",
      "version": "3.9.7"
    },
    "colab": {
      "name": "21EE64R18_DL_ASGN_2_Final.ipynb",
      "provenance": [],
      "collapsed_sections": []
    },
    "accelerator": "GPU",
    "widgets": {
      "application/vnd.jupyter.widget-state+json": {
        "fef70102caa142bdbf39392846a19128": {
          "model_module": "@jupyter-widgets/controls",
          "model_name": "HBoxModel",
          "model_module_version": "1.5.0",
          "state": {
            "_dom_classes": [],
            "_model_module": "@jupyter-widgets/controls",
            "_model_module_version": "1.5.0",
            "_model_name": "HBoxModel",
            "_view_count": null,
            "_view_module": "@jupyter-widgets/controls",
            "_view_module_version": "1.5.0",
            "_view_name": "HBoxView",
            "box_style": "",
            "children": [
              "IPY_MODEL_eeffd4cde31a430cb6c10496ad17eb99",
              "IPY_MODEL_0d29e05f988b4de493c880a5dc4c2b89",
              "IPY_MODEL_b2a2145bfd01435cb45677698d2e011e"
            ],
            "layout": "IPY_MODEL_36a244e5260947ba9b0fe4f723b612b6"
          }
        },
        "eeffd4cde31a430cb6c10496ad17eb99": {
          "model_module": "@jupyter-widgets/controls",
          "model_name": "HTMLModel",
          "model_module_version": "1.5.0",
          "state": {
            "_dom_classes": [],
            "_model_module": "@jupyter-widgets/controls",
            "_model_module_version": "1.5.0",
            "_model_name": "HTMLModel",
            "_view_count": null,
            "_view_module": "@jupyter-widgets/controls",
            "_view_module_version": "1.5.0",
            "_view_name": "HTMLView",
            "description": "",
            "description_tooltip": null,
            "layout": "IPY_MODEL_cdbd821d60f74840b1e2bd5b1bd7818e",
            "placeholder": "​",
            "style": "IPY_MODEL_dbe56d9f5ffa455b96eddce719a0beb8",
            "value": ""
          }
        },
        "0d29e05f988b4de493c880a5dc4c2b89": {
          "model_module": "@jupyter-widgets/controls",
          "model_name": "FloatProgressModel",
          "model_module_version": "1.5.0",
          "state": {
            "_dom_classes": [],
            "_model_module": "@jupyter-widgets/controls",
            "_model_module_version": "1.5.0",
            "_model_name": "FloatProgressModel",
            "_view_count": null,
            "_view_module": "@jupyter-widgets/controls",
            "_view_module_version": "1.5.0",
            "_view_name": "ProgressView",
            "bar_style": "success",
            "description": "",
            "description_tooltip": null,
            "layout": "IPY_MODEL_0fa8628c1e2c42d5a194927e69b04562",
            "max": 9912422,
            "min": 0,
            "orientation": "horizontal",
            "style": "IPY_MODEL_61eb2822b251432e88ebdde5fd821b0a",
            "value": 9912422
          }
        },
        "b2a2145bfd01435cb45677698d2e011e": {
          "model_module": "@jupyter-widgets/controls",
          "model_name": "HTMLModel",
          "model_module_version": "1.5.0",
          "state": {
            "_dom_classes": [],
            "_model_module": "@jupyter-widgets/controls",
            "_model_module_version": "1.5.0",
            "_model_name": "HTMLModel",
            "_view_count": null,
            "_view_module": "@jupyter-widgets/controls",
            "_view_module_version": "1.5.0",
            "_view_name": "HTMLView",
            "description": "",
            "description_tooltip": null,
            "layout": "IPY_MODEL_f1e98cabe9f04d7196e5d2aff8613ca8",
            "placeholder": "​",
            "style": "IPY_MODEL_0ee223eedfbe478e865b392aaf88fc25",
            "value": " 9913344/? [00:00&lt;00:00, 18462341.45it/s]"
          }
        },
        "36a244e5260947ba9b0fe4f723b612b6": {
          "model_module": "@jupyter-widgets/base",
          "model_name": "LayoutModel",
          "model_module_version": "1.2.0",
          "state": {
            "_model_module": "@jupyter-widgets/base",
            "_model_module_version": "1.2.0",
            "_model_name": "LayoutModel",
            "_view_count": null,
            "_view_module": "@jupyter-widgets/base",
            "_view_module_version": "1.2.0",
            "_view_name": "LayoutView",
            "align_content": null,
            "align_items": null,
            "align_self": null,
            "border": null,
            "bottom": null,
            "display": null,
            "flex": null,
            "flex_flow": null,
            "grid_area": null,
            "grid_auto_columns": null,
            "grid_auto_flow": null,
            "grid_auto_rows": null,
            "grid_column": null,
            "grid_gap": null,
            "grid_row": null,
            "grid_template_areas": null,
            "grid_template_columns": null,
            "grid_template_rows": null,
            "height": null,
            "justify_content": null,
            "justify_items": null,
            "left": null,
            "margin": null,
            "max_height": null,
            "max_width": null,
            "min_height": null,
            "min_width": null,
            "object_fit": null,
            "object_position": null,
            "order": null,
            "overflow": null,
            "overflow_x": null,
            "overflow_y": null,
            "padding": null,
            "right": null,
            "top": null,
            "visibility": null,
            "width": null
          }
        },
        "cdbd821d60f74840b1e2bd5b1bd7818e": {
          "model_module": "@jupyter-widgets/base",
          "model_name": "LayoutModel",
          "model_module_version": "1.2.0",
          "state": {
            "_model_module": "@jupyter-widgets/base",
            "_model_module_version": "1.2.0",
            "_model_name": "LayoutModel",
            "_view_count": null,
            "_view_module": "@jupyter-widgets/base",
            "_view_module_version": "1.2.0",
            "_view_name": "LayoutView",
            "align_content": null,
            "align_items": null,
            "align_self": null,
            "border": null,
            "bottom": null,
            "display": null,
            "flex": null,
            "flex_flow": null,
            "grid_area": null,
            "grid_auto_columns": null,
            "grid_auto_flow": null,
            "grid_auto_rows": null,
            "grid_column": null,
            "grid_gap": null,
            "grid_row": null,
            "grid_template_areas": null,
            "grid_template_columns": null,
            "grid_template_rows": null,
            "height": null,
            "justify_content": null,
            "justify_items": null,
            "left": null,
            "margin": null,
            "max_height": null,
            "max_width": null,
            "min_height": null,
            "min_width": null,
            "object_fit": null,
            "object_position": null,
            "order": null,
            "overflow": null,
            "overflow_x": null,
            "overflow_y": null,
            "padding": null,
            "right": null,
            "top": null,
            "visibility": null,
            "width": null
          }
        },
        "dbe56d9f5ffa455b96eddce719a0beb8": {
          "model_module": "@jupyter-widgets/controls",
          "model_name": "DescriptionStyleModel",
          "model_module_version": "1.5.0",
          "state": {
            "_model_module": "@jupyter-widgets/controls",
            "_model_module_version": "1.5.0",
            "_model_name": "DescriptionStyleModel",
            "_view_count": null,
            "_view_module": "@jupyter-widgets/base",
            "_view_module_version": "1.2.0",
            "_view_name": "StyleView",
            "description_width": ""
          }
        },
        "0fa8628c1e2c42d5a194927e69b04562": {
          "model_module": "@jupyter-widgets/base",
          "model_name": "LayoutModel",
          "model_module_version": "1.2.0",
          "state": {
            "_model_module": "@jupyter-widgets/base",
            "_model_module_version": "1.2.0",
            "_model_name": "LayoutModel",
            "_view_count": null,
            "_view_module": "@jupyter-widgets/base",
            "_view_module_version": "1.2.0",
            "_view_name": "LayoutView",
            "align_content": null,
            "align_items": null,
            "align_self": null,
            "border": null,
            "bottom": null,
            "display": null,
            "flex": null,
            "flex_flow": null,
            "grid_area": null,
            "grid_auto_columns": null,
            "grid_auto_flow": null,
            "grid_auto_rows": null,
            "grid_column": null,
            "grid_gap": null,
            "grid_row": null,
            "grid_template_areas": null,
            "grid_template_columns": null,
            "grid_template_rows": null,
            "height": null,
            "justify_content": null,
            "justify_items": null,
            "left": null,
            "margin": null,
            "max_height": null,
            "max_width": null,
            "min_height": null,
            "min_width": null,
            "object_fit": null,
            "object_position": null,
            "order": null,
            "overflow": null,
            "overflow_x": null,
            "overflow_y": null,
            "padding": null,
            "right": null,
            "top": null,
            "visibility": null,
            "width": null
          }
        },
        "61eb2822b251432e88ebdde5fd821b0a": {
          "model_module": "@jupyter-widgets/controls",
          "model_name": "ProgressStyleModel",
          "model_module_version": "1.5.0",
          "state": {
            "_model_module": "@jupyter-widgets/controls",
            "_model_module_version": "1.5.0",
            "_model_name": "ProgressStyleModel",
            "_view_count": null,
            "_view_module": "@jupyter-widgets/base",
            "_view_module_version": "1.2.0",
            "_view_name": "StyleView",
            "bar_color": null,
            "description_width": ""
          }
        },
        "f1e98cabe9f04d7196e5d2aff8613ca8": {
          "model_module": "@jupyter-widgets/base",
          "model_name": "LayoutModel",
          "model_module_version": "1.2.0",
          "state": {
            "_model_module": "@jupyter-widgets/base",
            "_model_module_version": "1.2.0",
            "_model_name": "LayoutModel",
            "_view_count": null,
            "_view_module": "@jupyter-widgets/base",
            "_view_module_version": "1.2.0",
            "_view_name": "LayoutView",
            "align_content": null,
            "align_items": null,
            "align_self": null,
            "border": null,
            "bottom": null,
            "display": null,
            "flex": null,
            "flex_flow": null,
            "grid_area": null,
            "grid_auto_columns": null,
            "grid_auto_flow": null,
            "grid_auto_rows": null,
            "grid_column": null,
            "grid_gap": null,
            "grid_row": null,
            "grid_template_areas": null,
            "grid_template_columns": null,
            "grid_template_rows": null,
            "height": null,
            "justify_content": null,
            "justify_items": null,
            "left": null,
            "margin": null,
            "max_height": null,
            "max_width": null,
            "min_height": null,
            "min_width": null,
            "object_fit": null,
            "object_position": null,
            "order": null,
            "overflow": null,
            "overflow_x": null,
            "overflow_y": null,
            "padding": null,
            "right": null,
            "top": null,
            "visibility": null,
            "width": null
          }
        },
        "0ee223eedfbe478e865b392aaf88fc25": {
          "model_module": "@jupyter-widgets/controls",
          "model_name": "DescriptionStyleModel",
          "model_module_version": "1.5.0",
          "state": {
            "_model_module": "@jupyter-widgets/controls",
            "_model_module_version": "1.5.0",
            "_model_name": "DescriptionStyleModel",
            "_view_count": null,
            "_view_module": "@jupyter-widgets/base",
            "_view_module_version": "1.2.0",
            "_view_name": "StyleView",
            "description_width": ""
          }
        },
        "ff683e4391fe4e289fec9f1a94d59736": {
          "model_module": "@jupyter-widgets/controls",
          "model_name": "HBoxModel",
          "model_module_version": "1.5.0",
          "state": {
            "_dom_classes": [],
            "_model_module": "@jupyter-widgets/controls",
            "_model_module_version": "1.5.0",
            "_model_name": "HBoxModel",
            "_view_count": null,
            "_view_module": "@jupyter-widgets/controls",
            "_view_module_version": "1.5.0",
            "_view_name": "HBoxView",
            "box_style": "",
            "children": [
              "IPY_MODEL_9bd0c185ee834032a018451e7eb868a9",
              "IPY_MODEL_ce440a22444c4129ab97b4682e67b1ba",
              "IPY_MODEL_66161717181d4640b326ce3cf5197125"
            ],
            "layout": "IPY_MODEL_08cb800d64784537ad4b5b29ae96b203"
          }
        },
        "9bd0c185ee834032a018451e7eb868a9": {
          "model_module": "@jupyter-widgets/controls",
          "model_name": "HTMLModel",
          "model_module_version": "1.5.0",
          "state": {
            "_dom_classes": [],
            "_model_module": "@jupyter-widgets/controls",
            "_model_module_version": "1.5.0",
            "_model_name": "HTMLModel",
            "_view_count": null,
            "_view_module": "@jupyter-widgets/controls",
            "_view_module_version": "1.5.0",
            "_view_name": "HTMLView",
            "description": "",
            "description_tooltip": null,
            "layout": "IPY_MODEL_27a66264eb9b4e6e9c75891312ce442b",
            "placeholder": "​",
            "style": "IPY_MODEL_ad32ff2559524a909e52a9e4fdb2f2bc",
            "value": ""
          }
        },
        "ce440a22444c4129ab97b4682e67b1ba": {
          "model_module": "@jupyter-widgets/controls",
          "model_name": "FloatProgressModel",
          "model_module_version": "1.5.0",
          "state": {
            "_dom_classes": [],
            "_model_module": "@jupyter-widgets/controls",
            "_model_module_version": "1.5.0",
            "_model_name": "FloatProgressModel",
            "_view_count": null,
            "_view_module": "@jupyter-widgets/controls",
            "_view_module_version": "1.5.0",
            "_view_name": "ProgressView",
            "bar_style": "success",
            "description": "",
            "description_tooltip": null,
            "layout": "IPY_MODEL_e259402e10a949e7b1286b6defba1c1d",
            "max": 28881,
            "min": 0,
            "orientation": "horizontal",
            "style": "IPY_MODEL_4a08211e7fc74c1fadc78c8d4c44a73a",
            "value": 28881
          }
        },
        "66161717181d4640b326ce3cf5197125": {
          "model_module": "@jupyter-widgets/controls",
          "model_name": "HTMLModel",
          "model_module_version": "1.5.0",
          "state": {
            "_dom_classes": [],
            "_model_module": "@jupyter-widgets/controls",
            "_model_module_version": "1.5.0",
            "_model_name": "HTMLModel",
            "_view_count": null,
            "_view_module": "@jupyter-widgets/controls",
            "_view_module_version": "1.5.0",
            "_view_name": "HTMLView",
            "description": "",
            "description_tooltip": null,
            "layout": "IPY_MODEL_b46a9b3d05fb4c72acd547d8ce9c9efb",
            "placeholder": "​",
            "style": "IPY_MODEL_31806b2b2a3146c59a4e9282d20550ac",
            "value": " 29696/? [00:00&lt;00:00, 720607.08it/s]"
          }
        },
        "08cb800d64784537ad4b5b29ae96b203": {
          "model_module": "@jupyter-widgets/base",
          "model_name": "LayoutModel",
          "model_module_version": "1.2.0",
          "state": {
            "_model_module": "@jupyter-widgets/base",
            "_model_module_version": "1.2.0",
            "_model_name": "LayoutModel",
            "_view_count": null,
            "_view_module": "@jupyter-widgets/base",
            "_view_module_version": "1.2.0",
            "_view_name": "LayoutView",
            "align_content": null,
            "align_items": null,
            "align_self": null,
            "border": null,
            "bottom": null,
            "display": null,
            "flex": null,
            "flex_flow": null,
            "grid_area": null,
            "grid_auto_columns": null,
            "grid_auto_flow": null,
            "grid_auto_rows": null,
            "grid_column": null,
            "grid_gap": null,
            "grid_row": null,
            "grid_template_areas": null,
            "grid_template_columns": null,
            "grid_template_rows": null,
            "height": null,
            "justify_content": null,
            "justify_items": null,
            "left": null,
            "margin": null,
            "max_height": null,
            "max_width": null,
            "min_height": null,
            "min_width": null,
            "object_fit": null,
            "object_position": null,
            "order": null,
            "overflow": null,
            "overflow_x": null,
            "overflow_y": null,
            "padding": null,
            "right": null,
            "top": null,
            "visibility": null,
            "width": null
          }
        },
        "27a66264eb9b4e6e9c75891312ce442b": {
          "model_module": "@jupyter-widgets/base",
          "model_name": "LayoutModel",
          "model_module_version": "1.2.0",
          "state": {
            "_model_module": "@jupyter-widgets/base",
            "_model_module_version": "1.2.0",
            "_model_name": "LayoutModel",
            "_view_count": null,
            "_view_module": "@jupyter-widgets/base",
            "_view_module_version": "1.2.0",
            "_view_name": "LayoutView",
            "align_content": null,
            "align_items": null,
            "align_self": null,
            "border": null,
            "bottom": null,
            "display": null,
            "flex": null,
            "flex_flow": null,
            "grid_area": null,
            "grid_auto_columns": null,
            "grid_auto_flow": null,
            "grid_auto_rows": null,
            "grid_column": null,
            "grid_gap": null,
            "grid_row": null,
            "grid_template_areas": null,
            "grid_template_columns": null,
            "grid_template_rows": null,
            "height": null,
            "justify_content": null,
            "justify_items": null,
            "left": null,
            "margin": null,
            "max_height": null,
            "max_width": null,
            "min_height": null,
            "min_width": null,
            "object_fit": null,
            "object_position": null,
            "order": null,
            "overflow": null,
            "overflow_x": null,
            "overflow_y": null,
            "padding": null,
            "right": null,
            "top": null,
            "visibility": null,
            "width": null
          }
        },
        "ad32ff2559524a909e52a9e4fdb2f2bc": {
          "model_module": "@jupyter-widgets/controls",
          "model_name": "DescriptionStyleModel",
          "model_module_version": "1.5.0",
          "state": {
            "_model_module": "@jupyter-widgets/controls",
            "_model_module_version": "1.5.0",
            "_model_name": "DescriptionStyleModel",
            "_view_count": null,
            "_view_module": "@jupyter-widgets/base",
            "_view_module_version": "1.2.0",
            "_view_name": "StyleView",
            "description_width": ""
          }
        },
        "e259402e10a949e7b1286b6defba1c1d": {
          "model_module": "@jupyter-widgets/base",
          "model_name": "LayoutModel",
          "model_module_version": "1.2.0",
          "state": {
            "_model_module": "@jupyter-widgets/base",
            "_model_module_version": "1.2.0",
            "_model_name": "LayoutModel",
            "_view_count": null,
            "_view_module": "@jupyter-widgets/base",
            "_view_module_version": "1.2.0",
            "_view_name": "LayoutView",
            "align_content": null,
            "align_items": null,
            "align_self": null,
            "border": null,
            "bottom": null,
            "display": null,
            "flex": null,
            "flex_flow": null,
            "grid_area": null,
            "grid_auto_columns": null,
            "grid_auto_flow": null,
            "grid_auto_rows": null,
            "grid_column": null,
            "grid_gap": null,
            "grid_row": null,
            "grid_template_areas": null,
            "grid_template_columns": null,
            "grid_template_rows": null,
            "height": null,
            "justify_content": null,
            "justify_items": null,
            "left": null,
            "margin": null,
            "max_height": null,
            "max_width": null,
            "min_height": null,
            "min_width": null,
            "object_fit": null,
            "object_position": null,
            "order": null,
            "overflow": null,
            "overflow_x": null,
            "overflow_y": null,
            "padding": null,
            "right": null,
            "top": null,
            "visibility": null,
            "width": null
          }
        },
        "4a08211e7fc74c1fadc78c8d4c44a73a": {
          "model_module": "@jupyter-widgets/controls",
          "model_name": "ProgressStyleModel",
          "model_module_version": "1.5.0",
          "state": {
            "_model_module": "@jupyter-widgets/controls",
            "_model_module_version": "1.5.0",
            "_model_name": "ProgressStyleModel",
            "_view_count": null,
            "_view_module": "@jupyter-widgets/base",
            "_view_module_version": "1.2.0",
            "_view_name": "StyleView",
            "bar_color": null,
            "description_width": ""
          }
        },
        "b46a9b3d05fb4c72acd547d8ce9c9efb": {
          "model_module": "@jupyter-widgets/base",
          "model_name": "LayoutModel",
          "model_module_version": "1.2.0",
          "state": {
            "_model_module": "@jupyter-widgets/base",
            "_model_module_version": "1.2.0",
            "_model_name": "LayoutModel",
            "_view_count": null,
            "_view_module": "@jupyter-widgets/base",
            "_view_module_version": "1.2.0",
            "_view_name": "LayoutView",
            "align_content": null,
            "align_items": null,
            "align_self": null,
            "border": null,
            "bottom": null,
            "display": null,
            "flex": null,
            "flex_flow": null,
            "grid_area": null,
            "grid_auto_columns": null,
            "grid_auto_flow": null,
            "grid_auto_rows": null,
            "grid_column": null,
            "grid_gap": null,
            "grid_row": null,
            "grid_template_areas": null,
            "grid_template_columns": null,
            "grid_template_rows": null,
            "height": null,
            "justify_content": null,
            "justify_items": null,
            "left": null,
            "margin": null,
            "max_height": null,
            "max_width": null,
            "min_height": null,
            "min_width": null,
            "object_fit": null,
            "object_position": null,
            "order": null,
            "overflow": null,
            "overflow_x": null,
            "overflow_y": null,
            "padding": null,
            "right": null,
            "top": null,
            "visibility": null,
            "width": null
          }
        },
        "31806b2b2a3146c59a4e9282d20550ac": {
          "model_module": "@jupyter-widgets/controls",
          "model_name": "DescriptionStyleModel",
          "model_module_version": "1.5.0",
          "state": {
            "_model_module": "@jupyter-widgets/controls",
            "_model_module_version": "1.5.0",
            "_model_name": "DescriptionStyleModel",
            "_view_count": null,
            "_view_module": "@jupyter-widgets/base",
            "_view_module_version": "1.2.0",
            "_view_name": "StyleView",
            "description_width": ""
          }
        },
        "050df300400740afbf8cfe2f2c9e1b61": {
          "model_module": "@jupyter-widgets/controls",
          "model_name": "HBoxModel",
          "model_module_version": "1.5.0",
          "state": {
            "_dom_classes": [],
            "_model_module": "@jupyter-widgets/controls",
            "_model_module_version": "1.5.0",
            "_model_name": "HBoxModel",
            "_view_count": null,
            "_view_module": "@jupyter-widgets/controls",
            "_view_module_version": "1.5.0",
            "_view_name": "HBoxView",
            "box_style": "",
            "children": [
              "IPY_MODEL_88bc1b276eb743db95ca777310404744",
              "IPY_MODEL_a9f7c5e871674d0eb64a42664944be4e",
              "IPY_MODEL_dfcbbfdb0d4145b087d62866dcda8fa7"
            ],
            "layout": "IPY_MODEL_8b2308d0174540bdb2b65570f3b9a8e0"
          }
        },
        "88bc1b276eb743db95ca777310404744": {
          "model_module": "@jupyter-widgets/controls",
          "model_name": "HTMLModel",
          "model_module_version": "1.5.0",
          "state": {
            "_dom_classes": [],
            "_model_module": "@jupyter-widgets/controls",
            "_model_module_version": "1.5.0",
            "_model_name": "HTMLModel",
            "_view_count": null,
            "_view_module": "@jupyter-widgets/controls",
            "_view_module_version": "1.5.0",
            "_view_name": "HTMLView",
            "description": "",
            "description_tooltip": null,
            "layout": "IPY_MODEL_1ad25c8c0b02412b95e6271fd2f2d5dd",
            "placeholder": "​",
            "style": "IPY_MODEL_6be382f72a004d929db655c8929b8a03",
            "value": ""
          }
        },
        "a9f7c5e871674d0eb64a42664944be4e": {
          "model_module": "@jupyter-widgets/controls",
          "model_name": "FloatProgressModel",
          "model_module_version": "1.5.0",
          "state": {
            "_dom_classes": [],
            "_model_module": "@jupyter-widgets/controls",
            "_model_module_version": "1.5.0",
            "_model_name": "FloatProgressModel",
            "_view_count": null,
            "_view_module": "@jupyter-widgets/controls",
            "_view_module_version": "1.5.0",
            "_view_name": "ProgressView",
            "bar_style": "success",
            "description": "",
            "description_tooltip": null,
            "layout": "IPY_MODEL_09621cfec8a94360af3995cfe6591760",
            "max": 1648877,
            "min": 0,
            "orientation": "horizontal",
            "style": "IPY_MODEL_2f3469a23c4049eb81c3696a7f2d30be",
            "value": 1648877
          }
        },
        "dfcbbfdb0d4145b087d62866dcda8fa7": {
          "model_module": "@jupyter-widgets/controls",
          "model_name": "HTMLModel",
          "model_module_version": "1.5.0",
          "state": {
            "_dom_classes": [],
            "_model_module": "@jupyter-widgets/controls",
            "_model_module_version": "1.5.0",
            "_model_name": "HTMLModel",
            "_view_count": null,
            "_view_module": "@jupyter-widgets/controls",
            "_view_module_version": "1.5.0",
            "_view_name": "HTMLView",
            "description": "",
            "description_tooltip": null,
            "layout": "IPY_MODEL_78d9f2a98a60427c8a2aa493205245e4",
            "placeholder": "​",
            "style": "IPY_MODEL_ac4ad28e644a434ab12a464121031838",
            "value": " 1649664/? [00:00&lt;00:00, 20275724.35it/s]"
          }
        },
        "8b2308d0174540bdb2b65570f3b9a8e0": {
          "model_module": "@jupyter-widgets/base",
          "model_name": "LayoutModel",
          "model_module_version": "1.2.0",
          "state": {
            "_model_module": "@jupyter-widgets/base",
            "_model_module_version": "1.2.0",
            "_model_name": "LayoutModel",
            "_view_count": null,
            "_view_module": "@jupyter-widgets/base",
            "_view_module_version": "1.2.0",
            "_view_name": "LayoutView",
            "align_content": null,
            "align_items": null,
            "align_self": null,
            "border": null,
            "bottom": null,
            "display": null,
            "flex": null,
            "flex_flow": null,
            "grid_area": null,
            "grid_auto_columns": null,
            "grid_auto_flow": null,
            "grid_auto_rows": null,
            "grid_column": null,
            "grid_gap": null,
            "grid_row": null,
            "grid_template_areas": null,
            "grid_template_columns": null,
            "grid_template_rows": null,
            "height": null,
            "justify_content": null,
            "justify_items": null,
            "left": null,
            "margin": null,
            "max_height": null,
            "max_width": null,
            "min_height": null,
            "min_width": null,
            "object_fit": null,
            "object_position": null,
            "order": null,
            "overflow": null,
            "overflow_x": null,
            "overflow_y": null,
            "padding": null,
            "right": null,
            "top": null,
            "visibility": null,
            "width": null
          }
        },
        "1ad25c8c0b02412b95e6271fd2f2d5dd": {
          "model_module": "@jupyter-widgets/base",
          "model_name": "LayoutModel",
          "model_module_version": "1.2.0",
          "state": {
            "_model_module": "@jupyter-widgets/base",
            "_model_module_version": "1.2.0",
            "_model_name": "LayoutModel",
            "_view_count": null,
            "_view_module": "@jupyter-widgets/base",
            "_view_module_version": "1.2.0",
            "_view_name": "LayoutView",
            "align_content": null,
            "align_items": null,
            "align_self": null,
            "border": null,
            "bottom": null,
            "display": null,
            "flex": null,
            "flex_flow": null,
            "grid_area": null,
            "grid_auto_columns": null,
            "grid_auto_flow": null,
            "grid_auto_rows": null,
            "grid_column": null,
            "grid_gap": null,
            "grid_row": null,
            "grid_template_areas": null,
            "grid_template_columns": null,
            "grid_template_rows": null,
            "height": null,
            "justify_content": null,
            "justify_items": null,
            "left": null,
            "margin": null,
            "max_height": null,
            "max_width": null,
            "min_height": null,
            "min_width": null,
            "object_fit": null,
            "object_position": null,
            "order": null,
            "overflow": null,
            "overflow_x": null,
            "overflow_y": null,
            "padding": null,
            "right": null,
            "top": null,
            "visibility": null,
            "width": null
          }
        },
        "6be382f72a004d929db655c8929b8a03": {
          "model_module": "@jupyter-widgets/controls",
          "model_name": "DescriptionStyleModel",
          "model_module_version": "1.5.0",
          "state": {
            "_model_module": "@jupyter-widgets/controls",
            "_model_module_version": "1.5.0",
            "_model_name": "DescriptionStyleModel",
            "_view_count": null,
            "_view_module": "@jupyter-widgets/base",
            "_view_module_version": "1.2.0",
            "_view_name": "StyleView",
            "description_width": ""
          }
        },
        "09621cfec8a94360af3995cfe6591760": {
          "model_module": "@jupyter-widgets/base",
          "model_name": "LayoutModel",
          "model_module_version": "1.2.0",
          "state": {
            "_model_module": "@jupyter-widgets/base",
            "_model_module_version": "1.2.0",
            "_model_name": "LayoutModel",
            "_view_count": null,
            "_view_module": "@jupyter-widgets/base",
            "_view_module_version": "1.2.0",
            "_view_name": "LayoutView",
            "align_content": null,
            "align_items": null,
            "align_self": null,
            "border": null,
            "bottom": null,
            "display": null,
            "flex": null,
            "flex_flow": null,
            "grid_area": null,
            "grid_auto_columns": null,
            "grid_auto_flow": null,
            "grid_auto_rows": null,
            "grid_column": null,
            "grid_gap": null,
            "grid_row": null,
            "grid_template_areas": null,
            "grid_template_columns": null,
            "grid_template_rows": null,
            "height": null,
            "justify_content": null,
            "justify_items": null,
            "left": null,
            "margin": null,
            "max_height": null,
            "max_width": null,
            "min_height": null,
            "min_width": null,
            "object_fit": null,
            "object_position": null,
            "order": null,
            "overflow": null,
            "overflow_x": null,
            "overflow_y": null,
            "padding": null,
            "right": null,
            "top": null,
            "visibility": null,
            "width": null
          }
        },
        "2f3469a23c4049eb81c3696a7f2d30be": {
          "model_module": "@jupyter-widgets/controls",
          "model_name": "ProgressStyleModel",
          "model_module_version": "1.5.0",
          "state": {
            "_model_module": "@jupyter-widgets/controls",
            "_model_module_version": "1.5.0",
            "_model_name": "ProgressStyleModel",
            "_view_count": null,
            "_view_module": "@jupyter-widgets/base",
            "_view_module_version": "1.2.0",
            "_view_name": "StyleView",
            "bar_color": null,
            "description_width": ""
          }
        },
        "78d9f2a98a60427c8a2aa493205245e4": {
          "model_module": "@jupyter-widgets/base",
          "model_name": "LayoutModel",
          "model_module_version": "1.2.0",
          "state": {
            "_model_module": "@jupyter-widgets/base",
            "_model_module_version": "1.2.0",
            "_model_name": "LayoutModel",
            "_view_count": null,
            "_view_module": "@jupyter-widgets/base",
            "_view_module_version": "1.2.0",
            "_view_name": "LayoutView",
            "align_content": null,
            "align_items": null,
            "align_self": null,
            "border": null,
            "bottom": null,
            "display": null,
            "flex": null,
            "flex_flow": null,
            "grid_area": null,
            "grid_auto_columns": null,
            "grid_auto_flow": null,
            "grid_auto_rows": null,
            "grid_column": null,
            "grid_gap": null,
            "grid_row": null,
            "grid_template_areas": null,
            "grid_template_columns": null,
            "grid_template_rows": null,
            "height": null,
            "justify_content": null,
            "justify_items": null,
            "left": null,
            "margin": null,
            "max_height": null,
            "max_width": null,
            "min_height": null,
            "min_width": null,
            "object_fit": null,
            "object_position": null,
            "order": null,
            "overflow": null,
            "overflow_x": null,
            "overflow_y": null,
            "padding": null,
            "right": null,
            "top": null,
            "visibility": null,
            "width": null
          }
        },
        "ac4ad28e644a434ab12a464121031838": {
          "model_module": "@jupyter-widgets/controls",
          "model_name": "DescriptionStyleModel",
          "model_module_version": "1.5.0",
          "state": {
            "_model_module": "@jupyter-widgets/controls",
            "_model_module_version": "1.5.0",
            "_model_name": "DescriptionStyleModel",
            "_view_count": null,
            "_view_module": "@jupyter-widgets/base",
            "_view_module_version": "1.2.0",
            "_view_name": "StyleView",
            "description_width": ""
          }
        },
        "95083da7c43b4d6e9bfab87fa0250518": {
          "model_module": "@jupyter-widgets/controls",
          "model_name": "HBoxModel",
          "model_module_version": "1.5.0",
          "state": {
            "_dom_classes": [],
            "_model_module": "@jupyter-widgets/controls",
            "_model_module_version": "1.5.0",
            "_model_name": "HBoxModel",
            "_view_count": null,
            "_view_module": "@jupyter-widgets/controls",
            "_view_module_version": "1.5.0",
            "_view_name": "HBoxView",
            "box_style": "",
            "children": [
              "IPY_MODEL_4c2380a3ef50469da780e43ebfb4e3e1",
              "IPY_MODEL_b7e16083ae5d4ce38982eff956bf3e42",
              "IPY_MODEL_b9281fd5c6db40c9a43ed9e4b398a73d"
            ],
            "layout": "IPY_MODEL_ded5e1b814174b40838aee12f4ccb0d5"
          }
        },
        "4c2380a3ef50469da780e43ebfb4e3e1": {
          "model_module": "@jupyter-widgets/controls",
          "model_name": "HTMLModel",
          "model_module_version": "1.5.0",
          "state": {
            "_dom_classes": [],
            "_model_module": "@jupyter-widgets/controls",
            "_model_module_version": "1.5.0",
            "_model_name": "HTMLModel",
            "_view_count": null,
            "_view_module": "@jupyter-widgets/controls",
            "_view_module_version": "1.5.0",
            "_view_name": "HTMLView",
            "description": "",
            "description_tooltip": null,
            "layout": "IPY_MODEL_d333968588474b7cb831866adfc5c32c",
            "placeholder": "​",
            "style": "IPY_MODEL_8d44b5469477487d83a9b365538fb14f",
            "value": ""
          }
        },
        "b7e16083ae5d4ce38982eff956bf3e42": {
          "model_module": "@jupyter-widgets/controls",
          "model_name": "FloatProgressModel",
          "model_module_version": "1.5.0",
          "state": {
            "_dom_classes": [],
            "_model_module": "@jupyter-widgets/controls",
            "_model_module_version": "1.5.0",
            "_model_name": "FloatProgressModel",
            "_view_count": null,
            "_view_module": "@jupyter-widgets/controls",
            "_view_module_version": "1.5.0",
            "_view_name": "ProgressView",
            "bar_style": "success",
            "description": "",
            "description_tooltip": null,
            "layout": "IPY_MODEL_e003e332e8a44a03b3dd97ca542d081b",
            "max": 4542,
            "min": 0,
            "orientation": "horizontal",
            "style": "IPY_MODEL_7936fcfd566f44b1acd7a9d169aecf9a",
            "value": 4542
          }
        },
        "b9281fd5c6db40c9a43ed9e4b398a73d": {
          "model_module": "@jupyter-widgets/controls",
          "model_name": "HTMLModel",
          "model_module_version": "1.5.0",
          "state": {
            "_dom_classes": [],
            "_model_module": "@jupyter-widgets/controls",
            "_model_module_version": "1.5.0",
            "_model_name": "HTMLModel",
            "_view_count": null,
            "_view_module": "@jupyter-widgets/controls",
            "_view_module_version": "1.5.0",
            "_view_name": "HTMLView",
            "description": "",
            "description_tooltip": null,
            "layout": "IPY_MODEL_8d043a51aa644ec296d0418624146d57",
            "placeholder": "​",
            "style": "IPY_MODEL_71df7b5edf194c73afbbb8416b11aaf6",
            "value": " 5120/? [00:00&lt;00:00, 141462.37it/s]"
          }
        },
        "ded5e1b814174b40838aee12f4ccb0d5": {
          "model_module": "@jupyter-widgets/base",
          "model_name": "LayoutModel",
          "model_module_version": "1.2.0",
          "state": {
            "_model_module": "@jupyter-widgets/base",
            "_model_module_version": "1.2.0",
            "_model_name": "LayoutModel",
            "_view_count": null,
            "_view_module": "@jupyter-widgets/base",
            "_view_module_version": "1.2.0",
            "_view_name": "LayoutView",
            "align_content": null,
            "align_items": null,
            "align_self": null,
            "border": null,
            "bottom": null,
            "display": null,
            "flex": null,
            "flex_flow": null,
            "grid_area": null,
            "grid_auto_columns": null,
            "grid_auto_flow": null,
            "grid_auto_rows": null,
            "grid_column": null,
            "grid_gap": null,
            "grid_row": null,
            "grid_template_areas": null,
            "grid_template_columns": null,
            "grid_template_rows": null,
            "height": null,
            "justify_content": null,
            "justify_items": null,
            "left": null,
            "margin": null,
            "max_height": null,
            "max_width": null,
            "min_height": null,
            "min_width": null,
            "object_fit": null,
            "object_position": null,
            "order": null,
            "overflow": null,
            "overflow_x": null,
            "overflow_y": null,
            "padding": null,
            "right": null,
            "top": null,
            "visibility": null,
            "width": null
          }
        },
        "d333968588474b7cb831866adfc5c32c": {
          "model_module": "@jupyter-widgets/base",
          "model_name": "LayoutModel",
          "model_module_version": "1.2.0",
          "state": {
            "_model_module": "@jupyter-widgets/base",
            "_model_module_version": "1.2.0",
            "_model_name": "LayoutModel",
            "_view_count": null,
            "_view_module": "@jupyter-widgets/base",
            "_view_module_version": "1.2.0",
            "_view_name": "LayoutView",
            "align_content": null,
            "align_items": null,
            "align_self": null,
            "border": null,
            "bottom": null,
            "display": null,
            "flex": null,
            "flex_flow": null,
            "grid_area": null,
            "grid_auto_columns": null,
            "grid_auto_flow": null,
            "grid_auto_rows": null,
            "grid_column": null,
            "grid_gap": null,
            "grid_row": null,
            "grid_template_areas": null,
            "grid_template_columns": null,
            "grid_template_rows": null,
            "height": null,
            "justify_content": null,
            "justify_items": null,
            "left": null,
            "margin": null,
            "max_height": null,
            "max_width": null,
            "min_height": null,
            "min_width": null,
            "object_fit": null,
            "object_position": null,
            "order": null,
            "overflow": null,
            "overflow_x": null,
            "overflow_y": null,
            "padding": null,
            "right": null,
            "top": null,
            "visibility": null,
            "width": null
          }
        },
        "8d44b5469477487d83a9b365538fb14f": {
          "model_module": "@jupyter-widgets/controls",
          "model_name": "DescriptionStyleModel",
          "model_module_version": "1.5.0",
          "state": {
            "_model_module": "@jupyter-widgets/controls",
            "_model_module_version": "1.5.0",
            "_model_name": "DescriptionStyleModel",
            "_view_count": null,
            "_view_module": "@jupyter-widgets/base",
            "_view_module_version": "1.2.0",
            "_view_name": "StyleView",
            "description_width": ""
          }
        },
        "e003e332e8a44a03b3dd97ca542d081b": {
          "model_module": "@jupyter-widgets/base",
          "model_name": "LayoutModel",
          "model_module_version": "1.2.0",
          "state": {
            "_model_module": "@jupyter-widgets/base",
            "_model_module_version": "1.2.0",
            "_model_name": "LayoutModel",
            "_view_count": null,
            "_view_module": "@jupyter-widgets/base",
            "_view_module_version": "1.2.0",
            "_view_name": "LayoutView",
            "align_content": null,
            "align_items": null,
            "align_self": null,
            "border": null,
            "bottom": null,
            "display": null,
            "flex": null,
            "flex_flow": null,
            "grid_area": null,
            "grid_auto_columns": null,
            "grid_auto_flow": null,
            "grid_auto_rows": null,
            "grid_column": null,
            "grid_gap": null,
            "grid_row": null,
            "grid_template_areas": null,
            "grid_template_columns": null,
            "grid_template_rows": null,
            "height": null,
            "justify_content": null,
            "justify_items": null,
            "left": null,
            "margin": null,
            "max_height": null,
            "max_width": null,
            "min_height": null,
            "min_width": null,
            "object_fit": null,
            "object_position": null,
            "order": null,
            "overflow": null,
            "overflow_x": null,
            "overflow_y": null,
            "padding": null,
            "right": null,
            "top": null,
            "visibility": null,
            "width": null
          }
        },
        "7936fcfd566f44b1acd7a9d169aecf9a": {
          "model_module": "@jupyter-widgets/controls",
          "model_name": "ProgressStyleModel",
          "model_module_version": "1.5.0",
          "state": {
            "_model_module": "@jupyter-widgets/controls",
            "_model_module_version": "1.5.0",
            "_model_name": "ProgressStyleModel",
            "_view_count": null,
            "_view_module": "@jupyter-widgets/base",
            "_view_module_version": "1.2.0",
            "_view_name": "StyleView",
            "bar_color": null,
            "description_width": ""
          }
        },
        "8d043a51aa644ec296d0418624146d57": {
          "model_module": "@jupyter-widgets/base",
          "model_name": "LayoutModel",
          "model_module_version": "1.2.0",
          "state": {
            "_model_module": "@jupyter-widgets/base",
            "_model_module_version": "1.2.0",
            "_model_name": "LayoutModel",
            "_view_count": null,
            "_view_module": "@jupyter-widgets/base",
            "_view_module_version": "1.2.0",
            "_view_name": "LayoutView",
            "align_content": null,
            "align_items": null,
            "align_self": null,
            "border": null,
            "bottom": null,
            "display": null,
            "flex": null,
            "flex_flow": null,
            "grid_area": null,
            "grid_auto_columns": null,
            "grid_auto_flow": null,
            "grid_auto_rows": null,
            "grid_column": null,
            "grid_gap": null,
            "grid_row": null,
            "grid_template_areas": null,
            "grid_template_columns": null,
            "grid_template_rows": null,
            "height": null,
            "justify_content": null,
            "justify_items": null,
            "left": null,
            "margin": null,
            "max_height": null,
            "max_width": null,
            "min_height": null,
            "min_width": null,
            "object_fit": null,
            "object_position": null,
            "order": null,
            "overflow": null,
            "overflow_x": null,
            "overflow_y": null,
            "padding": null,
            "right": null,
            "top": null,
            "visibility": null,
            "width": null
          }
        },
        "71df7b5edf194c73afbbb8416b11aaf6": {
          "model_module": "@jupyter-widgets/controls",
          "model_name": "DescriptionStyleModel",
          "model_module_version": "1.5.0",
          "state": {
            "_model_module": "@jupyter-widgets/controls",
            "_model_module_version": "1.5.0",
            "_model_name": "DescriptionStyleModel",
            "_view_count": null,
            "_view_module": "@jupyter-widgets/base",
            "_view_module_version": "1.2.0",
            "_view_name": "StyleView",
            "description_width": ""
          }
        }
      }
    }
  },
  "nbformat": 4,
  "nbformat_minor": 5
}